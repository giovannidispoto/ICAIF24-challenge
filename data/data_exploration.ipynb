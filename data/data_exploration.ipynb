{
 "cells": [
  {
   "cell_type": "code",
   "execution_count": 1,
   "id": "initial_id",
   "metadata": {
    "collapsed": true,
    "ExecuteTime": {
     "end_time": "2024-10-25T15:41:50.405807Z",
     "start_time": "2024-10-25T15:41:49.654602Z"
    }
   },
   "outputs": [],
   "source": [
    "import pandas as pd\n",
    "import numpy as np\n",
    "import matplotlib.pyplot as plt"
   ]
  },
  {
   "cell_type": "code",
   "outputs": [
    {
     "data": {
      "text/plain": "                        system_time   midpoint  spread  buys  sells  \\\n0  2021-04-07 11:32:42.122161+00:00  56035.995    0.01   0.0    0.0   \n1  2021-04-07 11:32:43.122161+00:00  56035.995    0.01   0.0    0.0   \n2  2021-04-07 11:32:44.122161+00:00  56035.995    0.01   0.0    0.0   \n3  2021-04-07 11:32:45.122161+00:00  56035.995    0.01   0.0    0.0   \n4  2021-04-07 11:32:46.122161+00:00  56035.995    0.01   0.0    0.0   \n5  2021-04-07 11:32:47.122161+00:00  56035.995    0.01   0.0    0.0   \n6  2021-04-07 11:32:48.122161+00:00  56035.995    0.01   0.0    0.0   \n7  2021-04-07 11:32:49.122161+00:00  56035.995    0.01   0.0    0.0   \n8  2021-04-07 11:32:50.122161+00:00  56035.995    0.01   0.0    0.0   \n9  2021-04-07 11:32:51.122161+00:00  56035.995    0.01   0.0    0.0   \n\n   bids_distance_0  bids_distance_1  bids_distance_2  bids_distance_3  \\\n0    -8.922836e-08    -2.676851e-07         -0.00005        -0.000245   \n1    -8.922836e-08    -2.676851e-07         -0.00005        -0.000245   \n2    -8.922836e-08    -2.676851e-07         -0.00005        -0.000245   \n3    -8.922836e-08    -2.676851e-07         -0.00005        -0.000245   \n4    -8.922836e-08    -2.676851e-07         -0.00005        -0.000245   \n5    -8.922836e-08    -2.676851e-07         -0.00005        -0.000245   \n6    -8.922836e-08    -2.676851e-07         -0.00005        -0.000245   \n7    -8.922836e-08    -2.676851e-07         -0.00005        -0.000245   \n8    -8.922836e-08    -2.676851e-07         -0.00005        -0.000245   \n9    -8.922836e-08    -2.676851e-07         -0.00005        -0.000245   \n\n   bids_distance_4  ...  asks_market_notional_7  asks_market_notional_8  \\\n0        -0.000288  ...                     0.0                     0.0   \n1        -0.000288  ...                     0.0                     0.0   \n2        -0.000288  ...                     0.0                     0.0   \n3        -0.000288  ...                     0.0                     0.0   \n4        -0.000288  ...                     0.0                     0.0   \n5        -0.000288  ...                     0.0                     0.0   \n6        -0.000288  ...                     0.0                     0.0   \n7        -0.000288  ...                     0.0                     0.0   \n8        -0.000288  ...                     0.0                     0.0   \n9        -0.000288  ...                     0.0                     0.0   \n\n   asks_market_notional_9  asks_market_notional_10  asks_market_notional_11  \\\n0                     0.0                      0.0                      0.0   \n1                     0.0                      0.0                      0.0   \n2                     0.0                      0.0                      0.0   \n3                     0.0                      0.0                      0.0   \n4                     0.0                      0.0                      0.0   \n5                     0.0                      0.0                      0.0   \n6                     0.0                      0.0                      0.0   \n7                     0.0                      0.0                      0.0   \n8                     0.0                      0.0                      0.0   \n9                     0.0                      0.0                      0.0   \n\n   asks_market_notional_12  asks_market_notional_13  asks_market_notional_14  \\\n0                      0.0                      0.0                      0.0   \n1                      0.0                      0.0                      0.0   \n2                      0.0                      0.0                      0.0   \n3                      0.0                      0.0                      0.0   \n4                      0.0                      0.0                      0.0   \n5                      0.0                      0.0                      0.0   \n6                      0.0                      0.0                      0.0   \n7                      0.0                      0.0                      0.0   \n8                      0.0                      0.0                      0.0   \n9                      0.0                      0.0                      0.0   \n\n   timestep  day  \n0         0    7  \n1         1    7  \n2         2    7  \n3         3    7  \n4         4    7  \n5         5    7  \n6         6    7  \n7         7    7  \n8         8    7  \n9         9    7  \n\n[10 rows x 157 columns]",
      "text/html": "<div>\n<style scoped>\n    .dataframe tbody tr th:only-of-type {\n        vertical-align: middle;\n    }\n\n    .dataframe tbody tr th {\n        vertical-align: top;\n    }\n\n    .dataframe thead th {\n        text-align: right;\n    }\n</style>\n<table border=\"1\" class=\"dataframe\">\n  <thead>\n    <tr style=\"text-align: right;\">\n      <th></th>\n      <th>system_time</th>\n      <th>midpoint</th>\n      <th>spread</th>\n      <th>buys</th>\n      <th>sells</th>\n      <th>bids_distance_0</th>\n      <th>bids_distance_1</th>\n      <th>bids_distance_2</th>\n      <th>bids_distance_3</th>\n      <th>bids_distance_4</th>\n      <th>...</th>\n      <th>asks_market_notional_7</th>\n      <th>asks_market_notional_8</th>\n      <th>asks_market_notional_9</th>\n      <th>asks_market_notional_10</th>\n      <th>asks_market_notional_11</th>\n      <th>asks_market_notional_12</th>\n      <th>asks_market_notional_13</th>\n      <th>asks_market_notional_14</th>\n      <th>timestep</th>\n      <th>day</th>\n    </tr>\n  </thead>\n  <tbody>\n    <tr>\n      <th>0</th>\n      <td>2021-04-07 11:32:42.122161+00:00</td>\n      <td>56035.995</td>\n      <td>0.01</td>\n      <td>0.0</td>\n      <td>0.0</td>\n      <td>-8.922836e-08</td>\n      <td>-2.676851e-07</td>\n      <td>-0.00005</td>\n      <td>-0.000245</td>\n      <td>-0.000288</td>\n      <td>...</td>\n      <td>0.0</td>\n      <td>0.0</td>\n      <td>0.0</td>\n      <td>0.0</td>\n      <td>0.0</td>\n      <td>0.0</td>\n      <td>0.0</td>\n      <td>0.0</td>\n      <td>0</td>\n      <td>7</td>\n    </tr>\n    <tr>\n      <th>1</th>\n      <td>2021-04-07 11:32:43.122161+00:00</td>\n      <td>56035.995</td>\n      <td>0.01</td>\n      <td>0.0</td>\n      <td>0.0</td>\n      <td>-8.922836e-08</td>\n      <td>-2.676851e-07</td>\n      <td>-0.00005</td>\n      <td>-0.000245</td>\n      <td>-0.000288</td>\n      <td>...</td>\n      <td>0.0</td>\n      <td>0.0</td>\n      <td>0.0</td>\n      <td>0.0</td>\n      <td>0.0</td>\n      <td>0.0</td>\n      <td>0.0</td>\n      <td>0.0</td>\n      <td>1</td>\n      <td>7</td>\n    </tr>\n    <tr>\n      <th>2</th>\n      <td>2021-04-07 11:32:44.122161+00:00</td>\n      <td>56035.995</td>\n      <td>0.01</td>\n      <td>0.0</td>\n      <td>0.0</td>\n      <td>-8.922836e-08</td>\n      <td>-2.676851e-07</td>\n      <td>-0.00005</td>\n      <td>-0.000245</td>\n      <td>-0.000288</td>\n      <td>...</td>\n      <td>0.0</td>\n      <td>0.0</td>\n      <td>0.0</td>\n      <td>0.0</td>\n      <td>0.0</td>\n      <td>0.0</td>\n      <td>0.0</td>\n      <td>0.0</td>\n      <td>2</td>\n      <td>7</td>\n    </tr>\n    <tr>\n      <th>3</th>\n      <td>2021-04-07 11:32:45.122161+00:00</td>\n      <td>56035.995</td>\n      <td>0.01</td>\n      <td>0.0</td>\n      <td>0.0</td>\n      <td>-8.922836e-08</td>\n      <td>-2.676851e-07</td>\n      <td>-0.00005</td>\n      <td>-0.000245</td>\n      <td>-0.000288</td>\n      <td>...</td>\n      <td>0.0</td>\n      <td>0.0</td>\n      <td>0.0</td>\n      <td>0.0</td>\n      <td>0.0</td>\n      <td>0.0</td>\n      <td>0.0</td>\n      <td>0.0</td>\n      <td>3</td>\n      <td>7</td>\n    </tr>\n    <tr>\n      <th>4</th>\n      <td>2021-04-07 11:32:46.122161+00:00</td>\n      <td>56035.995</td>\n      <td>0.01</td>\n      <td>0.0</td>\n      <td>0.0</td>\n      <td>-8.922836e-08</td>\n      <td>-2.676851e-07</td>\n      <td>-0.00005</td>\n      <td>-0.000245</td>\n      <td>-0.000288</td>\n      <td>...</td>\n      <td>0.0</td>\n      <td>0.0</td>\n      <td>0.0</td>\n      <td>0.0</td>\n      <td>0.0</td>\n      <td>0.0</td>\n      <td>0.0</td>\n      <td>0.0</td>\n      <td>4</td>\n      <td>7</td>\n    </tr>\n    <tr>\n      <th>5</th>\n      <td>2021-04-07 11:32:47.122161+00:00</td>\n      <td>56035.995</td>\n      <td>0.01</td>\n      <td>0.0</td>\n      <td>0.0</td>\n      <td>-8.922836e-08</td>\n      <td>-2.676851e-07</td>\n      <td>-0.00005</td>\n      <td>-0.000245</td>\n      <td>-0.000288</td>\n      <td>...</td>\n      <td>0.0</td>\n      <td>0.0</td>\n      <td>0.0</td>\n      <td>0.0</td>\n      <td>0.0</td>\n      <td>0.0</td>\n      <td>0.0</td>\n      <td>0.0</td>\n      <td>5</td>\n      <td>7</td>\n    </tr>\n    <tr>\n      <th>6</th>\n      <td>2021-04-07 11:32:48.122161+00:00</td>\n      <td>56035.995</td>\n      <td>0.01</td>\n      <td>0.0</td>\n      <td>0.0</td>\n      <td>-8.922836e-08</td>\n      <td>-2.676851e-07</td>\n      <td>-0.00005</td>\n      <td>-0.000245</td>\n      <td>-0.000288</td>\n      <td>...</td>\n      <td>0.0</td>\n      <td>0.0</td>\n      <td>0.0</td>\n      <td>0.0</td>\n      <td>0.0</td>\n      <td>0.0</td>\n      <td>0.0</td>\n      <td>0.0</td>\n      <td>6</td>\n      <td>7</td>\n    </tr>\n    <tr>\n      <th>7</th>\n      <td>2021-04-07 11:32:49.122161+00:00</td>\n      <td>56035.995</td>\n      <td>0.01</td>\n      <td>0.0</td>\n      <td>0.0</td>\n      <td>-8.922836e-08</td>\n      <td>-2.676851e-07</td>\n      <td>-0.00005</td>\n      <td>-0.000245</td>\n      <td>-0.000288</td>\n      <td>...</td>\n      <td>0.0</td>\n      <td>0.0</td>\n      <td>0.0</td>\n      <td>0.0</td>\n      <td>0.0</td>\n      <td>0.0</td>\n      <td>0.0</td>\n      <td>0.0</td>\n      <td>7</td>\n      <td>7</td>\n    </tr>\n    <tr>\n      <th>8</th>\n      <td>2021-04-07 11:32:50.122161+00:00</td>\n      <td>56035.995</td>\n      <td>0.01</td>\n      <td>0.0</td>\n      <td>0.0</td>\n      <td>-8.922836e-08</td>\n      <td>-2.676851e-07</td>\n      <td>-0.00005</td>\n      <td>-0.000245</td>\n      <td>-0.000288</td>\n      <td>...</td>\n      <td>0.0</td>\n      <td>0.0</td>\n      <td>0.0</td>\n      <td>0.0</td>\n      <td>0.0</td>\n      <td>0.0</td>\n      <td>0.0</td>\n      <td>0.0</td>\n      <td>8</td>\n      <td>7</td>\n    </tr>\n    <tr>\n      <th>9</th>\n      <td>2021-04-07 11:32:51.122161+00:00</td>\n      <td>56035.995</td>\n      <td>0.01</td>\n      <td>0.0</td>\n      <td>0.0</td>\n      <td>-8.922836e-08</td>\n      <td>-2.676851e-07</td>\n      <td>-0.00005</td>\n      <td>-0.000245</td>\n      <td>-0.000288</td>\n      <td>...</td>\n      <td>0.0</td>\n      <td>0.0</td>\n      <td>0.0</td>\n      <td>0.0</td>\n      <td>0.0</td>\n      <td>0.0</td>\n      <td>0.0</td>\n      <td>0.0</td>\n      <td>9</td>\n      <td>7</td>\n    </tr>\n  </tbody>\n</table>\n<p>10 rows × 157 columns</p>\n</div>"
     },
     "execution_count": 2,
     "metadata": {},
     "output_type": "execute_result"
    }
   ],
   "source": [
    "df = pd.read_csv(\"BTC_1sec.csv\", index_col=False).drop(columns=\"Unnamed: 0\")\n",
    "df['day'] = pd.to_datetime(df['system_time']).dt.day\n",
    "df.head(10)"
   ],
   "metadata": {
    "collapsed": false,
    "ExecuteTime": {
     "end_time": "2024-10-25T15:42:00.548864Z",
     "start_time": "2024-10-25T15:41:50.406824Z"
    }
   },
   "id": "f6070bf2f5af896e",
   "execution_count": 2
  },
  {
   "cell_type": "code",
   "outputs": [
    {
     "data": {
      "text/plain": "735906    735906\n735907    735907\n735908    735908\n735909    735909\n735910    735910\n           ...  \n822295    822295\n822296    822296\n822297    822297\n822298    822298\n822299    822299\nName: timestep, Length: 86394, dtype: int64"
     },
     "execution_count": 14,
     "metadata": {},
     "output_type": "execute_result"
    }
   ],
   "source": [],
   "metadata": {
    "collapsed": false,
    "ExecuteTime": {
     "end_time": "2024-10-25T15:49:53.884835Z",
     "start_time": "2024-10-25T15:49:53.769576Z"
    }
   },
   "id": "5f58fed68ddd36e4",
   "execution_count": 14
  },
  {
   "cell_type": "code",
   "outputs": [
    {
     "data": {
      "text/plain": "<Figure size 640x480 with 1 Axes>",
      "image/png": "[encoded data removed]"
     },
     "metadata": {},
     "output_type": "display_data"
    }
   ],
   "source": [
    "plt.plot(df['timestep'], df['midpoint'])\n",
    "plt.axvline(x=df[df['day'] == 16]['timestep'].iloc[0], color='red', linestyle='--', linewidth=1.5, label='Test')\n",
    "plt.axvline(x=df[df['day'] == 13]['timestep'].iloc[0], color='green', linestyle='--', linewidth=1.5, label='Train')\n",
    "plt.title(\"Midpoints in dataset\")\n",
    "plt.show()"
   ],
   "metadata": {
    "collapsed": false,
    "ExecuteTime": {
     "end_time": "2024-10-25T15:54:39.432812Z",
     "start_time": "2024-10-25T15:54:39.178379Z"
    }
   },
   "id": "6ca05c706ce4fbb7",
   "execution_count": 22
  },
  {
   "cell_type": "code",
   "outputs": [
    {
     "data": {
      "text/plain": "np.float64(4.3343106972289804e-12)"
     },
     "execution_count": 67,
     "metadata": {},
     "output_type": "execute_result"
    }
   ],
   "source": [
    "(df['bids_distance_0']+df['asks_distance_0']).values.sum()"
   ],
   "metadata": {
    "collapsed": false,
    "ExecuteTime": {
     "end_time": "2024-10-17T13:44:27.649577Z",
     "start_time": "2024-10-17T13:44:27.623943Z"
    }
   },
   "id": "c161c83830ed74ed",
   "execution_count": 67
  },
  {
   "cell_type": "code",
   "outputs": [
    {
     "data": {
      "text/plain": "        bids_distance_0  asks_distance_0  spread\n0         -8.922836e-08     8.922836e-08    0.01\n1         -8.922836e-08     8.922836e-08    0.01\n2         -8.922836e-08     8.922836e-08    0.01\n3         -8.922836e-08     8.922836e-08    0.01\n4         -8.922836e-08     8.922836e-08    0.01\n...                 ...              ...     ...\n824577    -8.152379e-08     8.152379e-08    0.01\n824578    -8.152379e-08     8.152379e-08    0.01\n824579    -8.149025e-08     8.149025e-08    0.01\n824580    -8.149025e-08     8.149025e-08    0.01\n824581    -6.925109e-06     6.925109e-06    0.85\n\n[824582 rows x 3 columns]",
      "text/html": "<div>\n<style scoped>\n    .dataframe tbody tr th:only-of-type {\n        vertical-align: middle;\n    }\n\n    .dataframe tbody tr th {\n        vertical-align: top;\n    }\n\n    .dataframe thead th {\n        text-align: right;\n    }\n</style>\n<table border=\"1\" class=\"dataframe\">\n  <thead>\n    <tr style=\"text-align: right;\">\n      <th></th>\n      <th>bids_distance_0</th>\n      <th>asks_distance_0</th>\n      <th>spread</th>\n    </tr>\n  </thead>\n  <tbody>\n    <tr>\n      <th>0</th>\n      <td>-8.922836e-08</td>\n      <td>8.922836e-08</td>\n      <td>0.01</td>\n    </tr>\n    <tr>\n      <th>1</th>\n      <td>-8.922836e-08</td>\n      <td>8.922836e-08</td>\n      <td>0.01</td>\n    </tr>\n    <tr>\n      <th>2</th>\n      <td>-8.922836e-08</td>\n      <td>8.922836e-08</td>\n      <td>0.01</td>\n    </tr>\n    <tr>\n      <th>3</th>\n      <td>-8.922836e-08</td>\n      <td>8.922836e-08</td>\n      <td>0.01</td>\n    </tr>\n    <tr>\n      <th>4</th>\n      <td>-8.922836e-08</td>\n      <td>8.922836e-08</td>\n      <td>0.01</td>\n    </tr>\n    <tr>\n      <th>...</th>\n      <td>...</td>\n      <td>...</td>\n      <td>...</td>\n    </tr>\n    <tr>\n      <th>824577</th>\n      <td>-8.152379e-08</td>\n      <td>8.152379e-08</td>\n      <td>0.01</td>\n    </tr>\n    <tr>\n      <th>824578</th>\n      <td>-8.152379e-08</td>\n      <td>8.152379e-08</td>\n      <td>0.01</td>\n    </tr>\n    <tr>\n      <th>824579</th>\n      <td>-8.149025e-08</td>\n      <td>8.149025e-08</td>\n      <td>0.01</td>\n    </tr>\n    <tr>\n      <th>824580</th>\n      <td>-8.149025e-08</td>\n      <td>8.149025e-08</td>\n      <td>0.01</td>\n    </tr>\n    <tr>\n      <th>824581</th>\n      <td>-6.925109e-06</td>\n      <td>6.925109e-06</td>\n      <td>0.85</td>\n    </tr>\n  </tbody>\n</table>\n<p>824582 rows × 3 columns</p>\n</div>"
     },
     "execution_count": 63,
     "metadata": {},
     "output_type": "execute_result"
    }
   ],
   "source": [
    "df[['bids_distance_0', 'asks_distance_0', 'spread']]"
   ],
   "metadata": {
    "collapsed": false,
    "ExecuteTime": {
     "end_time": "2024-10-17T13:43:37.079002Z",
     "start_time": "2024-10-17T13:43:37.040205Z"
    }
   },
   "id": "f24c2f222408db58",
   "execution_count": 63
  },
  {
   "cell_type": "code",
   "outputs": [
    {
     "data": {
      "text/plain": "                             system_time   midpoint  spread           buys  \\\n824577  2021-04-17 00:37:58.281751+00:00  61331.785    0.01     382.452330   \n824578  2021-04-17 00:37:59.281751+00:00  61331.785    0.01       0.000000   \n824579  2021-04-17 00:38:00.281751+00:00  61357.035    0.01    9338.062712   \n824580  2021-04-17 00:38:01.281751+00:00  61357.035    0.01    1586.678942   \n824581  2021-04-17 00:38:02.281751+00:00  61370.875    0.85  141161.159554   \n\n             sells  bids_distance_0  bids_distance_1  bids_distance_2  \\\n824577  193.311024    -8.152379e-08        -0.000004        -0.000041   \n824578    0.000000    -8.152379e-08        -0.000017        -0.000023   \n824579    0.000000    -8.149025e-08        -0.000015        -0.000109   \n824580    0.000000    -8.149025e-08        -0.000002        -0.000013   \n824581  120.652464    -6.925109e-06        -0.000024        -0.000197   \n\n        bids_distance_3  bids_distance_4  ...  asks_market_notional_6  \\\n824577        -0.000093        -0.000144  ...                     0.0   \n824578        -0.000030        -0.000040  ...                     0.0   \n824579        -0.000135        -0.000138  ...                     0.0   \n824580        -0.000015        -0.000026  ...                     0.0   \n824581        -0.000225        -0.000226  ...                     0.0   \n\n        asks_market_notional_7  asks_market_notional_8  \\\n824577                     0.0                     0.0   \n824578                     0.0                     0.0   \n824579                     0.0                     0.0   \n824580                     0.0                     0.0   \n824581                     0.0                     0.0   \n\n        asks_market_notional_9  asks_market_notional_10  \\\n824577                     0.0                      0.0   \n824578                     0.0                      0.0   \n824579                     0.0                      0.0   \n824580                     0.0                      0.0   \n824581                     0.0                      0.0   \n\n        asks_market_notional_11  asks_market_notional_12  \\\n824577                      0.0                      0.0   \n824578                      0.0                      0.0   \n824579                      0.0                      0.0   \n824580                      0.0                      0.0   \n824581                      0.0                      0.0   \n\n        asks_market_notional_13  asks_market_notional_14  timestep  \n824577               382.450012                      0.0    824577  \n824578                 0.000000                      0.0    824578  \n824579                 0.000000                      0.0    824579  \n824580                 0.000000                      0.0    824580  \n824581                 0.000000                      0.0    824581  \n\n[5 rows x 156 columns]",
      "text/html": "<div>\n<style scoped>\n    .dataframe tbody tr th:only-of-type {\n        vertical-align: middle;\n    }\n\n    .dataframe tbody tr th {\n        vertical-align: top;\n    }\n\n    .dataframe thead th {\n        text-align: right;\n    }\n</style>\n<table border=\"1\" class=\"dataframe\">\n  <thead>\n    <tr style=\"text-align: right;\">\n      <th></th>\n      <th>system_time</th>\n      <th>midpoint</th>\n      <th>spread</th>\n      <th>buys</th>\n      <th>sells</th>\n      <th>bids_distance_0</th>\n      <th>bids_distance_1</th>\n      <th>bids_distance_2</th>\n      <th>bids_distance_3</th>\n      <th>bids_distance_4</th>\n      <th>...</th>\n      <th>asks_market_notional_6</th>\n      <th>asks_market_notional_7</th>\n      <th>asks_market_notional_8</th>\n      <th>asks_market_notional_9</th>\n      <th>asks_market_notional_10</th>\n      <th>asks_market_notional_11</th>\n      <th>asks_market_notional_12</th>\n      <th>asks_market_notional_13</th>\n      <th>asks_market_notional_14</th>\n      <th>timestep</th>\n    </tr>\n  </thead>\n  <tbody>\n    <tr>\n      <th>824577</th>\n      <td>2021-04-17 00:37:58.281751+00:00</td>\n      <td>61331.785</td>\n      <td>0.01</td>\n      <td>382.452330</td>\n      <td>193.311024</td>\n      <td>-8.152379e-08</td>\n      <td>-0.000004</td>\n      <td>-0.000041</td>\n      <td>-0.000093</td>\n      <td>-0.000144</td>\n      <td>...</td>\n      <td>0.0</td>\n      <td>0.0</td>\n      <td>0.0</td>\n      <td>0.0</td>\n      <td>0.0</td>\n      <td>0.0</td>\n      <td>0.0</td>\n      <td>382.450012</td>\n      <td>0.0</td>\n      <td>824577</td>\n    </tr>\n    <tr>\n      <th>824578</th>\n      <td>2021-04-17 00:37:59.281751+00:00</td>\n      <td>61331.785</td>\n      <td>0.01</td>\n      <td>0.000000</td>\n      <td>0.000000</td>\n      <td>-8.152379e-08</td>\n      <td>-0.000017</td>\n      <td>-0.000023</td>\n      <td>-0.000030</td>\n      <td>-0.000040</td>\n      <td>...</td>\n      <td>0.0</td>\n      <td>0.0</td>\n      <td>0.0</td>\n      <td>0.0</td>\n      <td>0.0</td>\n      <td>0.0</td>\n      <td>0.0</td>\n      <td>0.000000</td>\n      <td>0.0</td>\n      <td>824578</td>\n    </tr>\n    <tr>\n      <th>824579</th>\n      <td>2021-04-17 00:38:00.281751+00:00</td>\n      <td>61357.035</td>\n      <td>0.01</td>\n      <td>9338.062712</td>\n      <td>0.000000</td>\n      <td>-8.149025e-08</td>\n      <td>-0.000015</td>\n      <td>-0.000109</td>\n      <td>-0.000135</td>\n      <td>-0.000138</td>\n      <td>...</td>\n      <td>0.0</td>\n      <td>0.0</td>\n      <td>0.0</td>\n      <td>0.0</td>\n      <td>0.0</td>\n      <td>0.0</td>\n      <td>0.0</td>\n      <td>0.000000</td>\n      <td>0.0</td>\n      <td>824579</td>\n    </tr>\n    <tr>\n      <th>824580</th>\n      <td>2021-04-17 00:38:01.281751+00:00</td>\n      <td>61357.035</td>\n      <td>0.01</td>\n      <td>1586.678942</td>\n      <td>0.000000</td>\n      <td>-8.149025e-08</td>\n      <td>-0.000002</td>\n      <td>-0.000013</td>\n      <td>-0.000015</td>\n      <td>-0.000026</td>\n      <td>...</td>\n      <td>0.0</td>\n      <td>0.0</td>\n      <td>0.0</td>\n      <td>0.0</td>\n      <td>0.0</td>\n      <td>0.0</td>\n      <td>0.0</td>\n      <td>0.000000</td>\n      <td>0.0</td>\n      <td>824580</td>\n    </tr>\n    <tr>\n      <th>824581</th>\n      <td>2021-04-17 00:38:02.281751+00:00</td>\n      <td>61370.875</td>\n      <td>0.85</td>\n      <td>141161.159554</td>\n      <td>120.652464</td>\n      <td>-6.925109e-06</td>\n      <td>-0.000024</td>\n      <td>-0.000197</td>\n      <td>-0.000225</td>\n      <td>-0.000226</td>\n      <td>...</td>\n      <td>0.0</td>\n      <td>0.0</td>\n      <td>0.0</td>\n      <td>0.0</td>\n      <td>0.0</td>\n      <td>0.0</td>\n      <td>0.0</td>\n      <td>0.000000</td>\n      <td>0.0</td>\n      <td>824581</td>\n    </tr>\n  </tbody>\n</table>\n<p>5 rows × 156 columns</p>\n</div>"
     },
     "execution_count": 13,
     "metadata": {},
     "output_type": "execute_result"
    }
   ],
   "source": [
    "df.tail()"
   ],
   "metadata": {
    "collapsed": false,
    "ExecuteTime": {
     "end_time": "2024-10-17T07:49:21.708539Z",
     "start_time": "2024-10-17T07:49:21.699559Z"
    }
   },
   "id": "2b62b0bb159ce913",
   "execution_count": 13
  },
  {
   "cell_type": "code",
   "outputs": [
    {
     "data": {
      "text/plain": "            midpoint         spread          buys         sells  \\\ncount  824582.000000  824582.000000  8.245820e+05  8.245820e+05   \nmean    60371.951907       1.001917  5.589054e+03  4.770010e+03   \nstd      2271.647388       2.791876  3.167714e+04  3.323754e+04   \nmin     55401.995000       0.010000  0.000000e+00  0.000000e+00   \n25%     58398.695000       0.010000  0.000000e+00  0.000000e+00   \n50%     60257.585000       0.010000  2.049485e+02  0.000000e+00   \n75%     62647.238750       0.010000  1.402789e+03  5.736783e+02   \nmax     64896.745000     152.700000  2.839042e+06  5.215817e+06   \n\n       bids_distance_0  bids_distance_1  bids_distance_2  bids_distance_3  \\\ncount     8.245820e+05     8.245820e+05     8.245820e+05     8.245820e+05   \nmean     -8.246090e-06    -4.391900e-05    -7.412853e-05    -9.929591e-05   \nstd       2.294365e-05     5.348895e-05     6.627400e-05     7.600166e-05   \nmin      -1.217783e-03    -1.228788e-03    -1.418060e-03    -1.418540e-03   \n25%      -8.783828e-08    -6.721061e-05    -1.047026e-04    -1.370466e-04   \n50%      -8.363777e-08    -2.520430e-05    -5.886891e-05    -8.366959e-05   \n75%      -8.088395e-08    -1.903465e-06    -2.393126e-05    -4.106620e-05   \nmax      -7.704546e-08    -2.314625e-07    -3.866504e-07    -5.436147e-07   \n\n       bids_distance_4  bids_distance_5  ...  asks_market_notional_6  \\\ncount     8.245820e+05     8.245820e+05  ...           824582.000000   \nmean     -1.226216e-04    -1.441038e-04  ...               17.737787   \nstd       8.418071e-05     9.071284e-05  ...              844.465934   \nmin      -1.438379e-03    -1.773098e-03  ...                0.000000   \n25%      -1.663526e-04    -1.921426e-04  ...                0.000000   \n50%      -1.069050e-04    -1.287256e-04  ...                0.000000   \n75%      -5.935559e-05    -7.739065e-05  ...                0.000000   \nmax      -7.036742e-07    -8.707652e-07  ...           184696.734375   \n\n       asks_market_notional_7  asks_market_notional_8  asks_market_notional_9  \\\ncount           824582.000000           824582.000000           824582.000000   \nmean                13.666397               10.591203                8.007655   \nstd                762.494125              753.128887              556.400444   \nmin                  0.000000                0.000000                0.000000   \n25%                  0.000000                0.000000                0.000000   \n50%                  0.000000                0.000000                0.000000   \n75%                  0.000000                0.000000                0.000000   \nmax             239886.203125           284256.562500           147695.203125   \n\n       asks_market_notional_10  asks_market_notional_11  \\\ncount            824582.000000            824582.000000   \nmean                  5.772872                 6.756914   \nstd                 434.776218               733.003391   \nmin                   0.000000                 0.000000   \n25%                   0.000000                 0.000000   \n50%                   0.000000                 0.000000   \n75%                   0.000000                 0.000000   \nmax              130046.968750            347845.437500   \n\n       asks_market_notional_12  asks_market_notional_13  \\\ncount            824582.000000            824582.000000   \nmean                  3.746427                 2.669454   \nstd                 394.017559               332.554653   \nmin                   0.000000                 0.000000   \n25%                   0.000000                 0.000000   \n50%                   0.000000                 0.000000   \n75%                   0.000000                 0.000000   \nmax              133348.421875            110804.921875   \n\n       asks_market_notional_14       timestep  \ncount            824582.000000  824582.000000  \nmean                  1.765560  412290.500000  \nstd                 219.403762  238036.464172  \nmin                   0.000000       0.000000  \n25%                   0.000000  206145.250000  \n50%                   0.000000  412290.500000  \n75%                   0.000000  618435.750000  \nmax               79525.187500  824581.000000  \n\n[8 rows x 155 columns]",
      "text/html": "<div>\n<style scoped>\n    .dataframe tbody tr th:only-of-type {\n        vertical-align: middle;\n    }\n\n    .dataframe tbody tr th {\n        vertical-align: top;\n    }\n\n    .dataframe thead th {\n        text-align: right;\n    }\n</style>\n<table border=\"1\" class=\"dataframe\">\n  <thead>\n    <tr style=\"text-align: right;\">\n      <th></th>\n      <th>midpoint</th>\n      <th>spread</th>\n      <th>buys</th>\n      <th>sells</th>\n      <th>bids_distance_0</th>\n      <th>bids_distance_1</th>\n      <th>bids_distance_2</th>\n      <th>bids_distance_3</th>\n      <th>bids_distance_4</th>\n      <th>bids_distance_5</th>\n      <th>...</th>\n      <th>asks_market_notional_6</th>\n      <th>asks_market_notional_7</th>\n      <th>asks_market_notional_8</th>\n      <th>asks_market_notional_9</th>\n      <th>asks_market_notional_10</th>\n      <th>asks_market_notional_11</th>\n      <th>asks_market_notional_12</th>\n      <th>asks_market_notional_13</th>\n      <th>asks_market_notional_14</th>\n      <th>timestep</th>\n    </tr>\n  </thead>\n  <tbody>\n    <tr>\n      <th>count</th>\n      <td>824582.000000</td>\n      <td>824582.000000</td>\n      <td>8.245820e+05</td>\n      <td>8.245820e+05</td>\n      <td>8.245820e+05</td>\n      <td>8.245820e+05</td>\n      <td>8.245820e+05</td>\n      <td>8.245820e+05</td>\n      <td>8.245820e+05</td>\n      <td>8.245820e+05</td>\n      <td>...</td>\n      <td>824582.000000</td>\n      <td>824582.000000</td>\n      <td>824582.000000</td>\n      <td>824582.000000</td>\n      <td>824582.000000</td>\n      <td>824582.000000</td>\n      <td>824582.000000</td>\n      <td>824582.000000</td>\n      <td>824582.000000</td>\n      <td>824582.000000</td>\n    </tr>\n    <tr>\n      <th>mean</th>\n      <td>60371.951907</td>\n      <td>1.001917</td>\n      <td>5.589054e+03</td>\n      <td>4.770010e+03</td>\n      <td>-8.246090e-06</td>\n      <td>-4.391900e-05</td>\n      <td>-7.412853e-05</td>\n      <td>-9.929591e-05</td>\n      <td>-1.226216e-04</td>\n      <td>-1.441038e-04</td>\n      <td>...</td>\n      <td>17.737787</td>\n      <td>13.666397</td>\n      <td>10.591203</td>\n      <td>8.007655</td>\n      <td>5.772872</td>\n      <td>6.756914</td>\n      <td>3.746427</td>\n      <td>2.669454</td>\n      <td>1.765560</td>\n      <td>412290.500000</td>\n    </tr>\n    <tr>\n      <th>std</th>\n      <td>2271.647388</td>\n      <td>2.791876</td>\n      <td>3.167714e+04</td>\n      <td>3.323754e+04</td>\n      <td>2.294365e-05</td>\n      <td>5.348895e-05</td>\n      <td>6.627400e-05</td>\n      <td>7.600166e-05</td>\n      <td>8.418071e-05</td>\n      <td>9.071284e-05</td>\n      <td>...</td>\n      <td>844.465934</td>\n      <td>762.494125</td>\n      <td>753.128887</td>\n      <td>556.400444</td>\n      <td>434.776218</td>\n      <td>733.003391</td>\n      <td>394.017559</td>\n      <td>332.554653</td>\n      <td>219.403762</td>\n      <td>238036.464172</td>\n    </tr>\n    <tr>\n      <th>min</th>\n      <td>55401.995000</td>\n      <td>0.010000</td>\n      <td>0.000000e+00</td>\n      <td>0.000000e+00</td>\n      <td>-1.217783e-03</td>\n      <td>-1.228788e-03</td>\n      <td>-1.418060e-03</td>\n      <td>-1.418540e-03</td>\n      <td>-1.438379e-03</td>\n      <td>-1.773098e-03</td>\n      <td>...</td>\n      <td>0.000000</td>\n      <td>0.000000</td>\n      <td>0.000000</td>\n      <td>0.000000</td>\n      <td>0.000000</td>\n      <td>0.000000</td>\n      <td>0.000000</td>\n      <td>0.000000</td>\n      <td>0.000000</td>\n      <td>0.000000</td>\n    </tr>\n    <tr>\n      <th>25%</th>\n      <td>58398.695000</td>\n      <td>0.010000</td>\n      <td>0.000000e+00</td>\n      <td>0.000000e+00</td>\n      <td>-8.783828e-08</td>\n      <td>-6.721061e-05</td>\n      <td>-1.047026e-04</td>\n      <td>-1.370466e-04</td>\n      <td>-1.663526e-04</td>\n      <td>-1.921426e-04</td>\n      <td>...</td>\n      <td>0.000000</td>\n      <td>0.000000</td>\n      <td>0.000000</td>\n      <td>0.000000</td>\n      <td>0.000000</td>\n      <td>0.000000</td>\n      <td>0.000000</td>\n      <td>0.000000</td>\n      <td>0.000000</td>\n      <td>206145.250000</td>\n    </tr>\n    <tr>\n      <th>50%</th>\n      <td>60257.585000</td>\n      <td>0.010000</td>\n      <td>2.049485e+02</td>\n      <td>0.000000e+00</td>\n      <td>-8.363777e-08</td>\n      <td>-2.520430e-05</td>\n      <td>-5.886891e-05</td>\n      <td>-8.366959e-05</td>\n      <td>-1.069050e-04</td>\n      <td>-1.287256e-04</td>\n      <td>...</td>\n      <td>0.000000</td>\n      <td>0.000000</td>\n      <td>0.000000</td>\n      <td>0.000000</td>\n      <td>0.000000</td>\n      <td>0.000000</td>\n      <td>0.000000</td>\n      <td>0.000000</td>\n      <td>0.000000</td>\n      <td>412290.500000</td>\n    </tr>\n    <tr>\n      <th>75%</th>\n      <td>62647.238750</td>\n      <td>0.010000</td>\n      <td>1.402789e+03</td>\n      <td>5.736783e+02</td>\n      <td>-8.088395e-08</td>\n      <td>-1.903465e-06</td>\n      <td>-2.393126e-05</td>\n      <td>-4.106620e-05</td>\n      <td>-5.935559e-05</td>\n      <td>-7.739065e-05</td>\n      <td>...</td>\n      <td>0.000000</td>\n      <td>0.000000</td>\n      <td>0.000000</td>\n      <td>0.000000</td>\n      <td>0.000000</td>\n      <td>0.000000</td>\n      <td>0.000000</td>\n      <td>0.000000</td>\n      <td>0.000000</td>\n      <td>618435.750000</td>\n    </tr>\n    <tr>\n      <th>max</th>\n      <td>64896.745000</td>\n      <td>152.700000</td>\n      <td>2.839042e+06</td>\n      <td>5.215817e+06</td>\n      <td>-7.704546e-08</td>\n      <td>-2.314625e-07</td>\n      <td>-3.866504e-07</td>\n      <td>-5.436147e-07</td>\n      <td>-7.036742e-07</td>\n      <td>-8.707652e-07</td>\n      <td>...</td>\n      <td>184696.734375</td>\n      <td>239886.203125</td>\n      <td>284256.562500</td>\n      <td>147695.203125</td>\n      <td>130046.968750</td>\n      <td>347845.437500</td>\n      <td>133348.421875</td>\n      <td>110804.921875</td>\n      <td>79525.187500</td>\n      <td>824581.000000</td>\n    </tr>\n  </tbody>\n</table>\n<p>8 rows × 155 columns</p>\n</div>"
     },
     "execution_count": 53,
     "metadata": {},
     "output_type": "execute_result"
    }
   ],
   "source": [
    "df.describe()"
   ],
   "metadata": {
    "collapsed": false,
    "ExecuteTime": {
     "end_time": "2024-10-17T08:43:27.145889Z",
     "start_time": "2024-10-17T08:43:24.127920Z"
    }
   },
   "id": "4e439a8d8ff8b446",
   "execution_count": 53
  },
  {
   "cell_type": "code",
   "outputs": [
    {
     "data": {
      "text/plain": "np.float64(0.01)"
     },
     "execution_count": 59,
     "metadata": {},
     "output_type": "execute_result"
    }
   ],
   "source": [
    "df['spread'].quantile(0.8)"
   ],
   "metadata": {
    "collapsed": false,
    "ExecuteTime": {
     "end_time": "2024-10-17T13:35:35.920572Z",
     "start_time": "2024-10-17T13:35:35.905765Z"
    }
   },
   "id": "950d6ea29c5d3738",
   "execution_count": 59
  },
  {
   "cell_type": "code",
   "outputs": [
    {
     "data": {
      "text/plain": "['system_time',\n 'midpoint',\n 'spread',\n 'buys',\n 'sells',\n 'bids_distance_0',\n 'bids_distance_1',\n 'bids_distance_2',\n 'bids_distance_3',\n 'bids_distance_4',\n 'bids_distance_5',\n 'bids_distance_6',\n 'bids_distance_7',\n 'bids_distance_8',\n 'bids_distance_9',\n 'bids_distance_10',\n 'bids_distance_11',\n 'bids_distance_12',\n 'bids_distance_13',\n 'bids_distance_14',\n 'bids_notional_0',\n 'bids_notional_1',\n 'bids_notional_2',\n 'bids_notional_3',\n 'bids_notional_4',\n 'bids_notional_5',\n 'bids_notional_6',\n 'bids_notional_7',\n 'bids_notional_8',\n 'bids_notional_9',\n 'bids_notional_10',\n 'bids_notional_11',\n 'bids_notional_12',\n 'bids_notional_13',\n 'bids_notional_14',\n 'bids_cancel_notional_0',\n 'bids_cancel_notional_1',\n 'bids_cancel_notional_2',\n 'bids_cancel_notional_3',\n 'bids_cancel_notional_4',\n 'bids_cancel_notional_5',\n 'bids_cancel_notional_6',\n 'bids_cancel_notional_7',\n 'bids_cancel_notional_8',\n 'bids_cancel_notional_9',\n 'bids_cancel_notional_10',\n 'bids_cancel_notional_11',\n 'bids_cancel_notional_12',\n 'bids_cancel_notional_13',\n 'bids_cancel_notional_14',\n 'bids_limit_notional_0',\n 'bids_limit_notional_1',\n 'bids_limit_notional_2',\n 'bids_limit_notional_3',\n 'bids_limit_notional_4',\n 'bids_limit_notional_5',\n 'bids_limit_notional_6',\n 'bids_limit_notional_7',\n 'bids_limit_notional_8',\n 'bids_limit_notional_9',\n 'bids_limit_notional_10',\n 'bids_limit_notional_11',\n 'bids_limit_notional_12',\n 'bids_limit_notional_13',\n 'bids_limit_notional_14',\n 'bids_market_notional_0',\n 'bids_market_notional_1',\n 'bids_market_notional_2',\n 'bids_market_notional_3',\n 'bids_market_notional_4',\n 'bids_market_notional_5',\n 'bids_market_notional_6',\n 'bids_market_notional_7',\n 'bids_market_notional_8',\n 'bids_market_notional_9',\n 'bids_market_notional_10',\n 'bids_market_notional_11',\n 'bids_market_notional_12',\n 'bids_market_notional_13',\n 'bids_market_notional_14',\n 'asks_distance_0',\n 'asks_distance_1',\n 'asks_distance_2',\n 'asks_distance_3',\n 'asks_distance_4',\n 'asks_distance_5',\n 'asks_distance_6',\n 'asks_distance_7',\n 'asks_distance_8',\n 'asks_distance_9',\n 'asks_distance_10',\n 'asks_distance_11',\n 'asks_distance_12',\n 'asks_distance_13',\n 'asks_distance_14',\n 'asks_notional_0',\n 'asks_notional_1',\n 'asks_notional_2',\n 'asks_notional_3',\n 'asks_notional_4',\n 'asks_notional_5',\n 'asks_notional_6',\n 'asks_notional_7',\n 'asks_notional_8',\n 'asks_notional_9',\n 'asks_notional_10',\n 'asks_notional_11',\n 'asks_notional_12',\n 'asks_notional_13',\n 'asks_notional_14',\n 'asks_cancel_notional_0',\n 'asks_cancel_notional_1',\n 'asks_cancel_notional_2',\n 'asks_cancel_notional_3',\n 'asks_cancel_notional_4',\n 'asks_cancel_notional_5',\n 'asks_cancel_notional_6',\n 'asks_cancel_notional_7',\n 'asks_cancel_notional_8',\n 'asks_cancel_notional_9',\n 'asks_cancel_notional_10',\n 'asks_cancel_notional_11',\n 'asks_cancel_notional_12',\n 'asks_cancel_notional_13',\n 'asks_cancel_notional_14',\n 'asks_limit_notional_0',\n 'asks_limit_notional_1',\n 'asks_limit_notional_2',\n 'asks_limit_notional_3',\n 'asks_limit_notional_4',\n 'asks_limit_notional_5',\n 'asks_limit_notional_6',\n 'asks_limit_notional_7',\n 'asks_limit_notional_8',\n 'asks_limit_notional_9',\n 'asks_limit_notional_10',\n 'asks_limit_notional_11',\n 'asks_limit_notional_12',\n 'asks_limit_notional_13',\n 'asks_limit_notional_14',\n 'asks_market_notional_0',\n 'asks_market_notional_1',\n 'asks_market_notional_2',\n 'asks_market_notional_3',\n 'asks_market_notional_4',\n 'asks_market_notional_5',\n 'asks_market_notional_6',\n 'asks_market_notional_7',\n 'asks_market_notional_8',\n 'asks_market_notional_9',\n 'asks_market_notional_10',\n 'asks_market_notional_11',\n 'asks_market_notional_12',\n 'asks_market_notional_13',\n 'asks_market_notional_14',\n 'timestep']"
     },
     "execution_count": 46,
     "metadata": {},
     "output_type": "execute_result"
    }
   ],
   "source": [
    "list(df.columns)"
   ],
   "metadata": {
    "collapsed": false,
    "ExecuteTime": {
     "end_time": "2024-10-17T08:31:32.253214Z",
     "start_time": "2024-10-17T08:31:32.233544Z"
    }
   },
   "id": "bf271ecaea1b2aa7",
   "execution_count": 46
  },
  {
   "cell_type": "code",
   "outputs": [
    {
     "data": {
      "text/plain": "(86367,)"
     },
     "execution_count": 29,
     "metadata": {},
     "output_type": "execute_result"
    }
   ],
   "source": [
    "pd.to_datetime(df['system_time'])[pd.to_datetime(df['system_time']).dt.day == 8].shape"
   ],
   "metadata": {
    "collapsed": false,
    "ExecuteTime": {
     "end_time": "2024-10-17T08:10:32.846296Z",
     "start_time": "2024-10-17T08:10:31.847922Z"
    }
   },
   "id": "c72b0f70918011f",
   "execution_count": 29
  },
  {
   "cell_type": "code",
   "outputs": [
    {
     "data": {
      "text/plain": "44836   2021-04-08 00:00:00.968678+00:00\n44837   2021-04-08 00:00:01.968678+00:00\n44838   2021-04-08 00:00:02.968678+00:00\n44839   2021-04-08 00:00:03.968678+00:00\n44840   2021-04-08 00:00:04.968678+00:00\nName: system_time, dtype: datetime64[ns, UTC]"
     },
     "execution_count": 31,
     "metadata": {},
     "output_type": "execute_result"
    }
   ],
   "source": [
    "pd.to_datetime(df['system_time'])[pd.to_datetime(df['system_time']).dt.day == 7].head(5)"
   ],
   "metadata": {
    "collapsed": false,
    "ExecuteTime": {
     "end_time": "2024-10-17T08:10:55.331724Z",
     "start_time": "2024-10-17T08:10:54.345825Z"
    }
   },
   "id": "45f22738e3f9c029",
   "execution_count": 31
  },
  {
   "cell_type": "code",
   "outputs": [
    {
     "data": {
      "text/plain": "44831   2021-04-07 23:59:55.110784+00:00\n44832   2021-04-07 23:59:56.110784+00:00\n44833   2021-04-07 23:59:57.110784+00:00\n44834   2021-04-07 23:59:58.110784+00:00\n44835   2021-04-07 23:59:59.110784+00:00\nName: system_time, dtype: datetime64[ns, UTC]"
     },
     "execution_count": 33,
     "metadata": {},
     "output_type": "execute_result"
    }
   ],
   "source": [
    "pd.to_datetime(df['system_time'])[pd.to_datetime(df['system_time']).dt.day == 7].tail(5)"
   ],
   "metadata": {
    "collapsed": false,
    "ExecuteTime": {
     "end_time": "2024-10-17T08:11:36.126418Z",
     "start_time": "2024-10-17T08:11:35.024902Z"
    }
   },
   "id": "a04f2383bbe7a83",
   "execution_count": 33
  },
  {
   "cell_type": "code",
   "outputs": [
    {
     "name": "stdout",
     "output_type": "stream",
     "text": [
      "(86367,)\n",
      "44836    44836\n",
      "Name: timestep, dtype: int64\n",
      "131202    131202\n",
      "Name: timestep, dtype: int64\n",
      "(86394,)\n",
      "131203    131203\n",
      "Name: timestep, dtype: int64\n",
      "217596    217596\n",
      "Name: timestep, dtype: int64\n",
      "(86394,)\n",
      "217597    217597\n",
      "Name: timestep, dtype: int64\n",
      "303990    303990\n",
      "Name: timestep, dtype: int64\n",
      "(86384,)\n",
      "303991    303991\n",
      "Name: timestep, dtype: int64\n",
      "390374    390374\n",
      "Name: timestep, dtype: int64\n",
      "(86369,)\n",
      "390375    390375\n",
      "Name: timestep, dtype: int64\n",
      "476743    476743\n",
      "Name: timestep, dtype: int64\n",
      "(86378,)\n",
      "476744    476744\n",
      "Name: timestep, dtype: int64\n",
      "563121    563121\n",
      "Name: timestep, dtype: int64\n",
      "(86390,)\n",
      "563122    563122\n",
      "Name: timestep, dtype: int64\n",
      "649511    649511\n",
      "Name: timestep, dtype: int64\n",
      "(86394,)\n",
      "649512    649512\n",
      "Name: timestep, dtype: int64\n",
      "735905    735905\n",
      "Name: timestep, dtype: int64\n",
      "(86394,)\n",
      "735906    735906\n",
      "Name: timestep, dtype: int64\n",
      "822299    822299\n",
      "Name: timestep, dtype: int64\n"
     ]
    }
   ],
   "source": [
    "shapes = []\n",
    "for i in range(8, 17):\n",
    "    print(pd.to_datetime(df['system_time'])[pd.to_datetime(df['system_time']).dt.day == i].shape)\n",
    "    shapes.append(int(pd.to_datetime(df['system_time'])[pd.to_datetime(df['system_time']).dt.day == i].shape[0]))\n",
    "    print(pd.to_datetime(df['system_time'])[pd.to_datetime(df['system_time']).dt.day == i].head(1))\n",
    "    print(pd.to_datetime(df['system_time'])[pd.to_datetime(df['system_time']).dt.day == i].tail(1))\n",
    "    "
   ],
   "metadata": {
    "collapsed": false,
    "ExecuteTime": {
     "end_time": "2024-10-17T08:43:07.970451Z",
     "start_time": "2024-10-17T08:42:42.629945Z"
    }
   },
   "id": "ae0d1bc4cc85e8fc",
   "execution_count": 51
  },
  {
   "cell_type": "code",
   "outputs": [
    {
     "data": {
      "text/plain": "[86367, 86394, 86394, 86384, 86369, 86378, 86390, 86394, 86394]"
     },
     "execution_count": 45,
     "metadata": {},
     "output_type": "execute_result"
    }
   ],
   "source": [
    "shapes"
   ],
   "metadata": {
    "collapsed": false,
    "ExecuteTime": {
     "end_time": "2024-10-17T08:22:57.299360Z",
     "start_time": "2024-10-17T08:22:57.294055Z"
    }
   },
   "id": "db7e02c954b3068b",
   "execution_count": 45
  },
  {
   "cell_type": "code",
   "outputs": [
    {
     "data": {
      "text/plain": "(array([2., 0., 0., 0., 1., 0., 1., 0., 1., 4.]),\n array([86367. , 86369.7, 86372.4, 86375.1, 86377.8, 86380.5, 86383.2,\n        86385.9, 86388.6, 86391.3, 86394. ]),\n <BarContainer object of 10 artists>)"
     },
     "execution_count": 44,
     "metadata": {},
     "output_type": "execute_result"
    },
    {
     "data": {
      "text/plain": "<Figure size 640x480 with 1 Axes>",
      "image/png": "[encoded data removed]"
     },
     "metadata": {},
     "output_type": "display_data"
    }
   ],
   "source": [
    "import matplotlib.pyplot as plt\n",
    "plt.title(\"Samples per day\")\n",
    "plt.hist(shapes)"
   ],
   "metadata": {
    "collapsed": false,
    "ExecuteTime": {
     "end_time": "2024-10-17T08:22:49.492998Z",
     "start_time": "2024-10-17T08:22:49.385708Z"
    }
   },
   "id": "3e18794bedf1a1ad",
   "execution_count": 44
  },
  {
   "cell_type": "code",
   "outputs": [],
   "source": [],
   "metadata": {
    "collapsed": false
   },
   "id": "7f3238b39de7d5c3"
  },
  {
   "cell_type": "code",
   "outputs": [
    {
     "data": {
      "text/plain": "(156,)"
     },
     "execution_count": 37,
     "metadata": {},
     "output_type": "execute_result"
    }
   ],
   "source": [
    "df.columns.shape"
   ],
   "metadata": {
    "collapsed": false,
    "ExecuteTime": {
     "end_time": "2024-10-17T08:15:05.969068Z",
     "start_time": "2024-10-17T08:15:05.962153Z"
    }
   },
   "id": "391f4cad11e8cffa",
   "execution_count": 37
  },
  {
   "cell_type": "code",
   "outputs": [
    {
     "data": {
      "text/plain": "Index(['system_time', 'midpoint', 'spread', 'buys', 'sells', 'bids_distance_0',\n       'bids_distance_1', 'bids_distance_2', 'bids_distance_3',\n       'bids_distance_4',\n       ...\n       'asks_market_notional_6', 'asks_market_notional_7',\n       'asks_market_notional_8', 'asks_market_notional_9',\n       'asks_market_notional_10', 'asks_market_notional_11',\n       'asks_market_notional_12', 'asks_market_notional_13',\n       'asks_market_notional_14', 'timestep'],\n      dtype='object', length=156)"
     },
     "execution_count": 10,
     "metadata": {},
     "output_type": "execute_result"
    }
   ],
   "source": [
    "df.columns"
   ],
   "metadata": {
    "collapsed": false,
    "ExecuteTime": {
     "end_time": "2024-10-17T07:48:46.012194Z",
     "start_time": "2024-10-17T07:48:46.005058Z"
    }
   },
   "id": "7091006273f8fdfd",
   "execution_count": 10
  },
  {
   "cell_type": "code",
   "outputs": [
    {
     "data": {
      "text/plain": "            midpoint         spread          buys         sells  \\\ncount  824582.000000  824582.000000  8.245820e+05  8.245820e+05   \nmean    60371.951907       1.001917  5.589054e+03  4.770010e+03   \nstd      2271.647388       2.791876  3.167714e+04  3.323754e+04   \nmin     55401.995000       0.010000  0.000000e+00  0.000000e+00   \n25%     58398.695000       0.010000  0.000000e+00  0.000000e+00   \n50%     60257.585000       0.010000  2.049485e+02  0.000000e+00   \n75%     62647.238750       0.010000  1.402789e+03  5.736783e+02   \nmax     64896.745000     152.700000  2.839042e+06  5.215817e+06   \n\n       bids_distance_0  bids_distance_1  bids_distance_2  bids_distance_3  \\\ncount     8.245820e+05     8.245820e+05     8.245820e+05     8.245820e+05   \nmean     -8.246090e-06    -4.391900e-05    -7.412853e-05    -9.929591e-05   \nstd       2.294365e-05     5.348895e-05     6.627400e-05     7.600166e-05   \nmin      -1.217783e-03    -1.228788e-03    -1.418060e-03    -1.418540e-03   \n25%      -8.783828e-08    -6.721061e-05    -1.047026e-04    -1.370466e-04   \n50%      -8.363777e-08    -2.520430e-05    -5.886891e-05    -8.366959e-05   \n75%      -8.088395e-08    -1.903465e-06    -2.393126e-05    -4.106620e-05   \nmax      -7.704546e-08    -2.314625e-07    -3.866504e-07    -5.436147e-07   \n\n       bids_distance_4  bids_distance_5  ...  asks_market_notional_6  \\\ncount     8.245820e+05     8.245820e+05  ...           824582.000000   \nmean     -1.226216e-04    -1.441038e-04  ...               17.737787   \nstd       8.418071e-05     9.071284e-05  ...              844.465934   \nmin      -1.438379e-03    -1.773098e-03  ...                0.000000   \n25%      -1.663526e-04    -1.921426e-04  ...                0.000000   \n50%      -1.069050e-04    -1.287256e-04  ...                0.000000   \n75%      -5.935559e-05    -7.739065e-05  ...                0.000000   \nmax      -7.036742e-07    -8.707652e-07  ...           184696.734375   \n\n       asks_market_notional_7  asks_market_notional_8  asks_market_notional_9  \\\ncount           824582.000000           824582.000000           824582.000000   \nmean                13.666397               10.591203                8.007655   \nstd                762.494125              753.128887              556.400444   \nmin                  0.000000                0.000000                0.000000   \n25%                  0.000000                0.000000                0.000000   \n50%                  0.000000                0.000000                0.000000   \n75%                  0.000000                0.000000                0.000000   \nmax             239886.203125           284256.562500           147695.203125   \n\n       asks_market_notional_10  asks_market_notional_11  \\\ncount            824582.000000            824582.000000   \nmean                  5.772872                 6.756914   \nstd                 434.776218               733.003391   \nmin                   0.000000                 0.000000   \n25%                   0.000000                 0.000000   \n50%                   0.000000                 0.000000   \n75%                   0.000000                 0.000000   \nmax              130046.968750            347845.437500   \n\n       asks_market_notional_12  asks_market_notional_13  \\\ncount            824582.000000            824582.000000   \nmean                  3.746427                 2.669454   \nstd                 394.017559               332.554653   \nmin                   0.000000                 0.000000   \n25%                   0.000000                 0.000000   \n50%                   0.000000                 0.000000   \n75%                   0.000000                 0.000000   \nmax              133348.421875            110804.921875   \n\n       asks_market_notional_14       timestep  \ncount            824582.000000  824582.000000  \nmean                  1.765560  412290.500000  \nstd                 219.403762  238036.464172  \nmin                   0.000000       0.000000  \n25%                   0.000000  206145.250000  \n50%                   0.000000  412290.500000  \n75%                   0.000000  618435.750000  \nmax               79525.187500  824581.000000  \n\n[8 rows x 155 columns]",
      "text/html": "<div>\n<style scoped>\n    .dataframe tbody tr th:only-of-type {\n        vertical-align: middle;\n    }\n\n    .dataframe tbody tr th {\n        vertical-align: top;\n    }\n\n    .dataframe thead th {\n        text-align: right;\n    }\n</style>\n<table border=\"1\" class=\"dataframe\">\n  <thead>\n    <tr style=\"text-align: right;\">\n      <th></th>\n      <th>midpoint</th>\n      <th>spread</th>\n      <th>buys</th>\n      <th>sells</th>\n      <th>bids_distance_0</th>\n      <th>bids_distance_1</th>\n      <th>bids_distance_2</th>\n      <th>bids_distance_3</th>\n      <th>bids_distance_4</th>\n      <th>bids_distance_5</th>\n      <th>...</th>\n      <th>asks_market_notional_6</th>\n      <th>asks_market_notional_7</th>\n      <th>asks_market_notional_8</th>\n      <th>asks_market_notional_9</th>\n      <th>asks_market_notional_10</th>\n      <th>asks_market_notional_11</th>\n      <th>asks_market_notional_12</th>\n      <th>asks_market_notional_13</th>\n      <th>asks_market_notional_14</th>\n      <th>timestep</th>\n    </tr>\n  </thead>\n  <tbody>\n    <tr>\n      <th>count</th>\n      <td>824582.000000</td>\n      <td>824582.000000</td>\n      <td>8.245820e+05</td>\n      <td>8.245820e+05</td>\n      <td>8.245820e+05</td>\n      <td>8.245820e+05</td>\n      <td>8.245820e+05</td>\n      <td>8.245820e+05</td>\n      <td>8.245820e+05</td>\n      <td>8.245820e+05</td>\n      <td>...</td>\n      <td>824582.000000</td>\n      <td>824582.000000</td>\n      <td>824582.000000</td>\n      <td>824582.000000</td>\n      <td>824582.000000</td>\n      <td>824582.000000</td>\n      <td>824582.000000</td>\n      <td>824582.000000</td>\n      <td>824582.000000</td>\n      <td>824582.000000</td>\n    </tr>\n    <tr>\n      <th>mean</th>\n      <td>60371.951907</td>\n      <td>1.001917</td>\n      <td>5.589054e+03</td>\n      <td>4.770010e+03</td>\n      <td>-8.246090e-06</td>\n      <td>-4.391900e-05</td>\n      <td>-7.412853e-05</td>\n      <td>-9.929591e-05</td>\n      <td>-1.226216e-04</td>\n      <td>-1.441038e-04</td>\n      <td>...</td>\n      <td>17.737787</td>\n      <td>13.666397</td>\n      <td>10.591203</td>\n      <td>8.007655</td>\n      <td>5.772872</td>\n      <td>6.756914</td>\n      <td>3.746427</td>\n      <td>2.669454</td>\n      <td>1.765560</td>\n      <td>412290.500000</td>\n    </tr>\n    <tr>\n      <th>std</th>\n      <td>2271.647388</td>\n      <td>2.791876</td>\n      <td>3.167714e+04</td>\n      <td>3.323754e+04</td>\n      <td>2.294365e-05</td>\n      <td>5.348895e-05</td>\n      <td>6.627400e-05</td>\n      <td>7.600166e-05</td>\n      <td>8.418071e-05</td>\n      <td>9.071284e-05</td>\n      <td>...</td>\n      <td>844.465934</td>\n      <td>762.494125</td>\n      <td>753.128887</td>\n      <td>556.400444</td>\n      <td>434.776218</td>\n      <td>733.003391</td>\n      <td>394.017559</td>\n      <td>332.554653</td>\n      <td>219.403762</td>\n      <td>238036.464172</td>\n    </tr>\n    <tr>\n      <th>min</th>\n      <td>55401.995000</td>\n      <td>0.010000</td>\n      <td>0.000000e+00</td>\n      <td>0.000000e+00</td>\n      <td>-1.217783e-03</td>\n      <td>-1.228788e-03</td>\n      <td>-1.418060e-03</td>\n      <td>-1.418540e-03</td>\n      <td>-1.438379e-03</td>\n      <td>-1.773098e-03</td>\n      <td>...</td>\n      <td>0.000000</td>\n      <td>0.000000</td>\n      <td>0.000000</td>\n      <td>0.000000</td>\n      <td>0.000000</td>\n      <td>0.000000</td>\n      <td>0.000000</td>\n      <td>0.000000</td>\n      <td>0.000000</td>\n      <td>0.000000</td>\n    </tr>\n    <tr>\n      <th>25%</th>\n      <td>58398.695000</td>\n      <td>0.010000</td>\n      <td>0.000000e+00</td>\n      <td>0.000000e+00</td>\n      <td>-8.783828e-08</td>\n      <td>-6.721061e-05</td>\n      <td>-1.047026e-04</td>\n      <td>-1.370466e-04</td>\n      <td>-1.663526e-04</td>\n      <td>-1.921426e-04</td>\n      <td>...</td>\n      <td>0.000000</td>\n      <td>0.000000</td>\n      <td>0.000000</td>\n      <td>0.000000</td>\n      <td>0.000000</td>\n      <td>0.000000</td>\n      <td>0.000000</td>\n      <td>0.000000</td>\n      <td>0.000000</td>\n      <td>206145.250000</td>\n    </tr>\n    <tr>\n      <th>50%</th>\n      <td>60257.585000</td>\n      <td>0.010000</td>\n      <td>2.049485e+02</td>\n      <td>0.000000e+00</td>\n      <td>-8.363777e-08</td>\n      <td>-2.520430e-05</td>\n      <td>-5.886891e-05</td>\n      <td>-8.366959e-05</td>\n      <td>-1.069050e-04</td>\n      <td>-1.287256e-04</td>\n      <td>...</td>\n      <td>0.000000</td>\n      <td>0.000000</td>\n      <td>0.000000</td>\n      <td>0.000000</td>\n      <td>0.000000</td>\n      <td>0.000000</td>\n      <td>0.000000</td>\n      <td>0.000000</td>\n      <td>0.000000</td>\n      <td>412290.500000</td>\n    </tr>\n    <tr>\n      <th>75%</th>\n      <td>62647.238750</td>\n      <td>0.010000</td>\n      <td>1.402789e+03</td>\n      <td>5.736783e+02</td>\n      <td>-8.088395e-08</td>\n      <td>-1.903465e-06</td>\n      <td>-2.393126e-05</td>\n      <td>-4.106620e-05</td>\n      <td>-5.935559e-05</td>\n      <td>-7.739065e-05</td>\n      <td>...</td>\n      <td>0.000000</td>\n      <td>0.000000</td>\n      <td>0.000000</td>\n      <td>0.000000</td>\n      <td>0.000000</td>\n      <td>0.000000</td>\n      <td>0.000000</td>\n      <td>0.000000</td>\n      <td>0.000000</td>\n      <td>618435.750000</td>\n    </tr>\n    <tr>\n      <th>max</th>\n      <td>64896.745000</td>\n      <td>152.700000</td>\n      <td>2.839042e+06</td>\n      <td>5.215817e+06</td>\n      <td>-7.704546e-08</td>\n      <td>-2.314625e-07</td>\n      <td>-3.866504e-07</td>\n      <td>-5.436147e-07</td>\n      <td>-7.036742e-07</td>\n      <td>-8.707652e-07</td>\n      <td>...</td>\n      <td>184696.734375</td>\n      <td>239886.203125</td>\n      <td>284256.562500</td>\n      <td>147695.203125</td>\n      <td>130046.968750</td>\n      <td>347845.437500</td>\n      <td>133348.421875</td>\n      <td>110804.921875</td>\n      <td>79525.187500</td>\n      <td>824581.000000</td>\n    </tr>\n  </tbody>\n</table>\n<p>8 rows × 155 columns</p>\n</div>"
     },
     "execution_count": 11,
     "metadata": {},
     "output_type": "execute_result"
    }
   ],
   "source": [
    "df.describe()"
   ],
   "metadata": {
    "collapsed": false,
    "ExecuteTime": {
     "end_time": "2024-10-17T07:48:49.753147Z",
     "start_time": "2024-10-17T07:48:46.870744Z"
    }
   },
   "id": "c93a80417997cbb1",
   "execution_count": 11
  },
  {
   "cell_type": "code",
   "outputs": [],
   "source": [],
   "metadata": {
    "collapsed": false
   },
   "id": "e091d948a64f33bb"
  },
  {
   "cell_type": "code",
   "outputs": [],
   "source": [
    "import numpy as np\n",
    "import pandas as pd\n",
    "\n",
    "arr = np.load(\"BTC_1sec_predict.npy\")\n"
   ],
   "metadata": {
    "collapsed": false,
    "ExecuteTime": {
     "end_time": "2024-10-18T12:46:15.482029Z",
     "start_time": "2024-10-18T12:46:15.454329Z"
    }
   },
   "id": "9828ff8205e748c1",
   "execution_count": 6
  },
  {
   "cell_type": "code",
   "outputs": [
    {
     "data": {
      "text/plain": "                   0              1              2              3  \\\ncount  823682.000000  823682.000000  823682.000000  823682.000000   \nmean       -0.006092      -0.008027      -0.016812      -0.007794   \nstd         0.294286       0.341085       0.353025       0.349375   \nmin        -0.983395      -0.994889      -0.993077      -0.996144   \n25%        -0.171300      -0.200994      -0.217607      -0.207115   \n50%        -0.002436       0.000169      -0.008703      -0.004879   \n75%         0.161485       0.190012       0.186363       0.191503   \nmax         0.963129       0.990355       0.997629       0.997927   \n\n                   4              5              6              7  \ncount  823682.000000  823682.000000  823682.000000  823682.000000  \nmean       -0.008777      -0.032662      -0.063599      -0.077281  \nstd         0.341916       0.338302       0.352526       0.350364  \nmin        -0.993960      -0.990583      -0.993378      -0.994124  \n25%        -0.201834      -0.228988      -0.278629      -0.294703  \n50%        -0.005804      -0.029620      -0.062176      -0.081891  \n75%         0.184807       0.161735       0.144238       0.126953  \nmax         0.997628       0.994624       0.991975       0.985599  ",
      "text/html": "<div>\n<style scoped>\n    .dataframe tbody tr th:only-of-type {\n        vertical-align: middle;\n    }\n\n    .dataframe tbody tr th {\n        vertical-align: top;\n    }\n\n    .dataframe thead th {\n        text-align: right;\n    }\n</style>\n<table border=\"1\" class=\"dataframe\">\n  <thead>\n    <tr style=\"text-align: right;\">\n      <th></th>\n      <th>0</th>\n      <th>1</th>\n      <th>2</th>\n      <th>3</th>\n      <th>4</th>\n      <th>5</th>\n      <th>6</th>\n      <th>7</th>\n    </tr>\n  </thead>\n  <tbody>\n    <tr>\n      <th>count</th>\n      <td>823682.000000</td>\n      <td>823682.000000</td>\n      <td>823682.000000</td>\n      <td>823682.000000</td>\n      <td>823682.000000</td>\n      <td>823682.000000</td>\n      <td>823682.000000</td>\n      <td>823682.000000</td>\n    </tr>\n    <tr>\n      <th>mean</th>\n      <td>-0.006092</td>\n      <td>-0.008027</td>\n      <td>-0.016812</td>\n      <td>-0.007794</td>\n      <td>-0.008777</td>\n      <td>-0.032662</td>\n      <td>-0.063599</td>\n      <td>-0.077281</td>\n    </tr>\n    <tr>\n      <th>std</th>\n      <td>0.294286</td>\n      <td>0.341085</td>\n      <td>0.353025</td>\n      <td>0.349375</td>\n      <td>0.341916</td>\n      <td>0.338302</td>\n      <td>0.352526</td>\n      <td>0.350364</td>\n    </tr>\n    <tr>\n      <th>min</th>\n      <td>-0.983395</td>\n      <td>-0.994889</td>\n      <td>-0.993077</td>\n      <td>-0.996144</td>\n      <td>-0.993960</td>\n      <td>-0.990583</td>\n      <td>-0.993378</td>\n      <td>-0.994124</td>\n    </tr>\n    <tr>\n      <th>25%</th>\n      <td>-0.171300</td>\n      <td>-0.200994</td>\n      <td>-0.217607</td>\n      <td>-0.207115</td>\n      <td>-0.201834</td>\n      <td>-0.228988</td>\n      <td>-0.278629</td>\n      <td>-0.294703</td>\n    </tr>\n    <tr>\n      <th>50%</th>\n      <td>-0.002436</td>\n      <td>0.000169</td>\n      <td>-0.008703</td>\n      <td>-0.004879</td>\n      <td>-0.005804</td>\n      <td>-0.029620</td>\n      <td>-0.062176</td>\n      <td>-0.081891</td>\n    </tr>\n    <tr>\n      <th>75%</th>\n      <td>0.161485</td>\n      <td>0.190012</td>\n      <td>0.186363</td>\n      <td>0.191503</td>\n      <td>0.184807</td>\n      <td>0.161735</td>\n      <td>0.144238</td>\n      <td>0.126953</td>\n    </tr>\n    <tr>\n      <th>max</th>\n      <td>0.963129</td>\n      <td>0.990355</td>\n      <td>0.997629</td>\n      <td>0.997927</td>\n      <td>0.997628</td>\n      <td>0.994624</td>\n      <td>0.991975</td>\n      <td>0.985599</td>\n    </tr>\n  </tbody>\n</table>\n</div>"
     },
     "execution_count": 8,
     "metadata": {},
     "output_type": "execute_result"
    }
   ],
   "source": [
    "pd.DataFrame(arr).describe()"
   ],
   "metadata": {
    "collapsed": false,
    "ExecuteTime": {
     "end_time": "2024-10-18T12:46:20.691590Z",
     "start_time": "2024-10-18T12:46:20.545458Z"
    }
   },
   "id": "79995f2a45037b99",
   "execution_count": 8
  },
  {
   "cell_type": "code",
   "outputs": [],
   "source": [],
   "metadata": {
    "collapsed": false
   },
   "id": "d3bcff82066b65ef"
  }
 ],
 "metadata": {
  "kernelspec": {
   "display_name": "Python 3",
   "language": "python",
   "name": "python3"
  },
  "language_info": {
   "codemirror_mode": {
    "name": "ipython",
    "version": 2
   },
   "file_extension": ".py",
   "mimetype": "text/x-python",
   "name": "python",
   "nbconvert_exporter": "python",
   "pygments_lexer": "ipython2",
   "version": "2.7.6"
  }
 },
 "nbformat": 4,
 "nbformat_minor": 5
}
