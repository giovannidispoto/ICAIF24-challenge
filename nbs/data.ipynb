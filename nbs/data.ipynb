{
 "cells": [
  {
   "cell_type": "code",
   "execution_count": 9,
   "metadata": {},
   "outputs": [
    {
     "data": {
      "text/html": [
       "<div><style>\n",
       ".dataframe > thead > tr,\n",
       ".dataframe > tbody > tr {\n",
       "  text-align: right;\n",
       "  white-space: pre-wrap;\n",
       "}\n",
       "</style>\n",
       "<small>shape: (824_582, 156)</small><table border=\"1\" class=\"dataframe\"><thead><tr><th>system_time</th><th>midpoint</th><th>spread</th><th>buys</th><th>sells</th><th>bids_distance_0</th><th>bids_distance_1</th><th>bids_distance_2</th><th>bids_distance_3</th><th>bids_distance_4</th><th>bids_distance_5</th><th>bids_distance_6</th><th>bids_distance_7</th><th>bids_distance_8</th><th>bids_distance_9</th><th>bids_distance_10</th><th>bids_distance_11</th><th>bids_distance_12</th><th>bids_distance_13</th><th>bids_distance_14</th><th>bids_notional_0</th><th>bids_notional_1</th><th>bids_notional_2</th><th>bids_notional_3</th><th>bids_notional_4</th><th>bids_notional_5</th><th>bids_notional_6</th><th>bids_notional_7</th><th>bids_notional_8</th><th>bids_notional_9</th><th>bids_notional_10</th><th>bids_notional_11</th><th>bids_notional_12</th><th>bids_notional_13</th><th>bids_notional_14</th><th>bids_cancel_notional_0</th><th>bids_cancel_notional_1</th><th>&hellip;</th><th>asks_cancel_notional_9</th><th>asks_cancel_notional_10</th><th>asks_cancel_notional_11</th><th>asks_cancel_notional_12</th><th>asks_cancel_notional_13</th><th>asks_cancel_notional_14</th><th>asks_limit_notional_0</th><th>asks_limit_notional_1</th><th>asks_limit_notional_2</th><th>asks_limit_notional_3</th><th>asks_limit_notional_4</th><th>asks_limit_notional_5</th><th>asks_limit_notional_6</th><th>asks_limit_notional_7</th><th>asks_limit_notional_8</th><th>asks_limit_notional_9</th><th>asks_limit_notional_10</th><th>asks_limit_notional_11</th><th>asks_limit_notional_12</th><th>asks_limit_notional_13</th><th>asks_limit_notional_14</th><th>asks_market_notional_0</th><th>asks_market_notional_1</th><th>asks_market_notional_2</th><th>asks_market_notional_3</th><th>asks_market_notional_4</th><th>asks_market_notional_5</th><th>asks_market_notional_6</th><th>asks_market_notional_7</th><th>asks_market_notional_8</th><th>asks_market_notional_9</th><th>asks_market_notional_10</th><th>asks_market_notional_11</th><th>asks_market_notional_12</th><th>asks_market_notional_13</th><th>asks_market_notional_14</th><th>timestep</th></tr><tr><td>str</td><td>f64</td><td>f64</td><td>f64</td><td>f64</td><td>f64</td><td>f64</td><td>f64</td><td>f64</td><td>f64</td><td>f64</td><td>f64</td><td>f64</td><td>f64</td><td>f64</td><td>f64</td><td>f64</td><td>f64</td><td>f64</td><td>f64</td><td>f64</td><td>f64</td><td>f64</td><td>f64</td><td>f64</td><td>f64</td><td>f64</td><td>f64</td><td>f64</td><td>f64</td><td>f64</td><td>f64</td><td>f64</td><td>f64</td><td>f64</td><td>f64</td><td>f64</td><td>&hellip;</td><td>f64</td><td>f64</td><td>f64</td><td>f64</td><td>f64</td><td>f64</td><td>f64</td><td>f64</td><td>f64</td><td>f64</td><td>f64</td><td>f64</td><td>f64</td><td>f64</td><td>f64</td><td>f64</td><td>f64</td><td>f64</td><td>f64</td><td>f64</td><td>f64</td><td>f64</td><td>f64</td><td>f64</td><td>f64</td><td>f64</td><td>f64</td><td>f64</td><td>f64</td><td>f64</td><td>f64</td><td>f64</td><td>f64</td><td>f64</td><td>f64</td><td>f64</td><td>i64</td></tr></thead><tbody><tr><td>&quot;2021-04-07 11:32:42.122161+00:…</td><td>56035.995</td><td>0.01</td><td>0.0</td><td>0.0</td><td>-8.9228e-8</td><td>-2.6769e-7</td><td>-0.00005</td><td>-0.000245</td><td>-0.000288</td><td>-0.000288</td><td>-0.000327</td><td>-0.000404</td><td>-0.00044</td><td>-0.000485</td><td>-0.00051</td><td>-0.000583</td><td>-0.000594</td><td>-0.000635</td><td>-0.000642</td><td>3061.860107</td><td>75350.570312</td><td>80665.398438</td><td>2234.860107</td><td>220.110001</td><td>22788.880859</td><td>19995.810547</td><td>19994.259766</td><td>108.07</td><td>19992.650391</td><td>3145.850098</td><td>9968.589844</td><td>768.690002</td><td>29982.970703</td><td>4930.339844</td><td>0.0</td><td>0.0</td><td>&hellip;</td><td>0.0</td><td>0.0</td><td>0.0</td><td>0.0</td><td>0.0</td><td>0.0</td><td>1902.290039</td><td>110791.046875</td><td>64.120003</td><td>453.839996</td><td>86.75</td><td>387.079987</td><td>64.129997</td><td>107.879997</td><td>19617.839844</td><td>5696.399902</td><td>275252.5625</td><td>108.080002</td><td>107.889999</td><td>67148.421875</td><td>20007.480469</td><td>0.0</td><td>0.0</td><td>0.0</td><td>0.0</td><td>0.0</td><td>0.0</td><td>0.0</td><td>0.0</td><td>0.0</td><td>0.0</td><td>0.0</td><td>0.0</td><td>0.0</td><td>0.0</td><td>0.0</td><td>0</td></tr><tr><td>&quot;2021-04-07 11:32:43.122161+00:…</td><td>56035.995</td><td>0.01</td><td>0.0</td><td>0.0</td><td>-8.9228e-8</td><td>-2.6769e-7</td><td>-0.00005</td><td>-0.000245</td><td>-0.000288</td><td>-0.000288</td><td>-0.000327</td><td>-0.000404</td><td>-0.00044</td><td>-0.000485</td><td>-0.00051</td><td>-0.000583</td><td>-0.000594</td><td>-0.000635</td><td>-0.000642</td><td>3061.860107</td><td>75350.570312</td><td>80665.398438</td><td>2234.860107</td><td>220.110001</td><td>22788.880859</td><td>19995.810547</td><td>19994.259766</td><td>108.07</td><td>19992.650391</td><td>3145.850098</td><td>9968.589844</td><td>768.690002</td><td>29982.970703</td><td>4930.339844</td><td>0.0</td><td>0.0</td><td>&hellip;</td><td>0.0</td><td>0.0</td><td>0.0</td><td>0.0</td><td>0.0</td><td>0.0</td><td>1902.290039</td><td>110791.046875</td><td>64.120003</td><td>453.839996</td><td>86.75</td><td>387.079987</td><td>64.129997</td><td>107.879997</td><td>19617.839844</td><td>5696.399902</td><td>275252.5625</td><td>108.080002</td><td>107.889999</td><td>67148.421875</td><td>20007.480469</td><td>0.0</td><td>0.0</td><td>0.0</td><td>0.0</td><td>0.0</td><td>0.0</td><td>0.0</td><td>0.0</td><td>0.0</td><td>0.0</td><td>0.0</td><td>0.0</td><td>0.0</td><td>0.0</td><td>0.0</td><td>1</td></tr><tr><td>&quot;2021-04-07 11:32:44.122161+00:…</td><td>56035.995</td><td>0.01</td><td>0.0</td><td>0.0</td><td>-8.9228e-8</td><td>-2.6769e-7</td><td>-0.00005</td><td>-0.000245</td><td>-0.000288</td><td>-0.000288</td><td>-0.000327</td><td>-0.000404</td><td>-0.00044</td><td>-0.000485</td><td>-0.00051</td><td>-0.000583</td><td>-0.000594</td><td>-0.000635</td><td>-0.000642</td><td>3061.860107</td><td>75350.570312</td><td>80665.398438</td><td>2234.860107</td><td>220.110001</td><td>22788.880859</td><td>19995.810547</td><td>19994.259766</td><td>108.07</td><td>19992.650391</td><td>3145.850098</td><td>9968.589844</td><td>768.690002</td><td>29982.970703</td><td>4930.339844</td><td>0.0</td><td>0.0</td><td>&hellip;</td><td>0.0</td><td>0.0</td><td>0.0</td><td>0.0</td><td>0.0</td><td>0.0</td><td>1902.290039</td><td>110791.046875</td><td>64.120003</td><td>453.839996</td><td>86.75</td><td>387.079987</td><td>64.129997</td><td>107.879997</td><td>19617.839844</td><td>5696.399902</td><td>275252.5625</td><td>108.080002</td><td>107.889999</td><td>67148.421875</td><td>20007.480469</td><td>0.0</td><td>0.0</td><td>0.0</td><td>0.0</td><td>0.0</td><td>0.0</td><td>0.0</td><td>0.0</td><td>0.0</td><td>0.0</td><td>0.0</td><td>0.0</td><td>0.0</td><td>0.0</td><td>0.0</td><td>2</td></tr><tr><td>&quot;2021-04-07 11:32:45.122161+00:…</td><td>56035.995</td><td>0.01</td><td>0.0</td><td>0.0</td><td>-8.9228e-8</td><td>-2.6769e-7</td><td>-0.00005</td><td>-0.000245</td><td>-0.000288</td><td>-0.000288</td><td>-0.000327</td><td>-0.000404</td><td>-0.00044</td><td>-0.000485</td><td>-0.00051</td><td>-0.000583</td><td>-0.000594</td><td>-0.000635</td><td>-0.000642</td><td>3061.860107</td><td>75350.570312</td><td>80665.398438</td><td>2234.860107</td><td>220.110001</td><td>22788.880859</td><td>19995.810547</td><td>19994.259766</td><td>108.07</td><td>19992.650391</td><td>3145.850098</td><td>9968.589844</td><td>768.690002</td><td>29982.970703</td><td>4930.339844</td><td>0.0</td><td>0.0</td><td>&hellip;</td><td>0.0</td><td>0.0</td><td>0.0</td><td>0.0</td><td>0.0</td><td>0.0</td><td>1902.290039</td><td>110791.046875</td><td>64.120003</td><td>453.839996</td><td>86.75</td><td>387.079987</td><td>64.129997</td><td>107.879997</td><td>19617.839844</td><td>5696.399902</td><td>275252.5625</td><td>108.080002</td><td>107.889999</td><td>67148.421875</td><td>20007.480469</td><td>0.0</td><td>0.0</td><td>0.0</td><td>0.0</td><td>0.0</td><td>0.0</td><td>0.0</td><td>0.0</td><td>0.0</td><td>0.0</td><td>0.0</td><td>0.0</td><td>0.0</td><td>0.0</td><td>0.0</td><td>3</td></tr><tr><td>&quot;2021-04-07 11:32:46.122161+00:…</td><td>56035.995</td><td>0.01</td><td>0.0</td><td>0.0</td><td>-8.9228e-8</td><td>-2.6769e-7</td><td>-0.00005</td><td>-0.000245</td><td>-0.000288</td><td>-0.000288</td><td>-0.000327</td><td>-0.000404</td><td>-0.00044</td><td>-0.000485</td><td>-0.00051</td><td>-0.000583</td><td>-0.000594</td><td>-0.000635</td><td>-0.000642</td><td>3061.860107</td><td>75350.570312</td><td>80665.398438</td><td>2234.860107</td><td>220.110001</td><td>22788.880859</td><td>19995.810547</td><td>19994.259766</td><td>108.07</td><td>19992.650391</td><td>3145.850098</td><td>9968.589844</td><td>768.690002</td><td>29982.970703</td><td>4930.339844</td><td>0.0</td><td>0.0</td><td>&hellip;</td><td>0.0</td><td>0.0</td><td>0.0</td><td>0.0</td><td>0.0</td><td>0.0</td><td>1902.290039</td><td>110791.046875</td><td>64.120003</td><td>453.839996</td><td>86.75</td><td>387.079987</td><td>64.129997</td><td>107.879997</td><td>19617.839844</td><td>5696.399902</td><td>275252.5625</td><td>108.080002</td><td>107.889999</td><td>67148.421875</td><td>20007.480469</td><td>0.0</td><td>0.0</td><td>0.0</td><td>0.0</td><td>0.0</td><td>0.0</td><td>0.0</td><td>0.0</td><td>0.0</td><td>0.0</td><td>0.0</td><td>0.0</td><td>0.0</td><td>0.0</td><td>0.0</td><td>4</td></tr><tr><td>&hellip;</td><td>&hellip;</td><td>&hellip;</td><td>&hellip;</td><td>&hellip;</td><td>&hellip;</td><td>&hellip;</td><td>&hellip;</td><td>&hellip;</td><td>&hellip;</td><td>&hellip;</td><td>&hellip;</td><td>&hellip;</td><td>&hellip;</td><td>&hellip;</td><td>&hellip;</td><td>&hellip;</td><td>&hellip;</td><td>&hellip;</td><td>&hellip;</td><td>&hellip;</td><td>&hellip;</td><td>&hellip;</td><td>&hellip;</td><td>&hellip;</td><td>&hellip;</td><td>&hellip;</td><td>&hellip;</td><td>&hellip;</td><td>&hellip;</td><td>&hellip;</td><td>&hellip;</td><td>&hellip;</td><td>&hellip;</td><td>&hellip;</td><td>&hellip;</td><td>&hellip;</td><td>&hellip;</td><td>&hellip;</td><td>&hellip;</td><td>&hellip;</td><td>&hellip;</td><td>&hellip;</td><td>&hellip;</td><td>&hellip;</td><td>&hellip;</td><td>&hellip;</td><td>&hellip;</td><td>&hellip;</td><td>&hellip;</td><td>&hellip;</td><td>&hellip;</td><td>&hellip;</td><td>&hellip;</td><td>&hellip;</td><td>&hellip;</td><td>&hellip;</td><td>&hellip;</td><td>&hellip;</td><td>&hellip;</td><td>&hellip;</td><td>&hellip;</td><td>&hellip;</td><td>&hellip;</td><td>&hellip;</td><td>&hellip;</td><td>&hellip;</td><td>&hellip;</td><td>&hellip;</td><td>&hellip;</td><td>&hellip;</td><td>&hellip;</td><td>&hellip;</td><td>&hellip;</td><td>&hellip;</td></tr><tr><td>&quot;2021-04-17 00:37:58.281751+00:…</td><td>61331.785</td><td>0.01</td><td>382.45233</td><td>193.311024</td><td>-8.1524e-8</td><td>-0.000004</td><td>-0.000041</td><td>-0.000093</td><td>-0.000144</td><td>-0.000144</td><td>-0.00015</td><td>-0.000157</td><td>-0.000163</td><td>-0.000163</td><td>-0.000163</td><td>-0.000192</td><td>-0.000207</td><td>-0.000223</td><td>-0.000223</td><td>412.649994</td><td>3365.179932</td><td>8866.25</td><td>5000.0</td><td>1471.75</td><td>6.17</td><td>2543.76001</td><td>245.669998</td><td>9810.719727</td><td>17886.529297</td><td>19999.140625</td><td>17075.839844</td><td>919.789978</td><td>26149.490234</td><td>6131.810059</td><td>0.0</td><td>0.0</td><td>&hellip;</td><td>0.0</td><td>0.0</td><td>0.0</td><td>0.0</td><td>0.0</td><td>0.0</td><td>18239.720703</td><td>132938.234375</td><td>1226.73999</td><td>307.089996</td><td>12881.089844</td><td>67476.40625</td><td>5996.430176</td><td>14201.25</td><td>67479.296875</td><td>9815.719727</td><td>3224.919922</td><td>17897.869141</td><td>6135.509766</td><td>29450.939453</td><td>5000.0</td><td>0.0</td><td>0.0</td><td>0.0</td><td>0.0</td><td>0.0</td><td>0.0</td><td>0.0</td><td>0.0</td><td>0.0</td><td>0.0</td><td>0.0</td><td>0.0</td><td>0.0</td><td>382.450012</td><td>0.0</td><td>824577</td></tr><tr><td>&quot;2021-04-17 00:37:59.281751+00:…</td><td>61331.785</td><td>0.01</td><td>0.0</td><td>0.0</td><td>-8.1524e-8</td><td>-0.000017</td><td>-0.000023</td><td>-0.00003</td><td>-0.00004</td><td>-0.000041</td><td>-0.000041</td><td>-0.000041</td><td>-0.000043</td><td>-0.000076</td><td>-0.000113</td><td>-0.000143</td><td>-0.000144</td><td>-0.000144</td><td>-0.000144</td><td>212927.40625</td><td>919.960022</td><td>101519.359375</td><td>919.950012</td><td>6132.930176</td><td>129898.867188</td><td>120074.546875</td><td>8866.25</td><td>919.940002</td><td>5185.529785</td><td>8082.879883</td><td>26151.580078</td><td>9810.910156</td><td>1471.75</td><td>6.17</td><td>55181.929688</td><td>0.0</td><td>&hellip;</td><td>0.0</td><td>0.0</td><td>0.0</td><td>0.0</td><td>0.0</td><td>0.0</td><td>0.0</td><td>1226.949951</td><td>3067.459961</td><td>4386.77002</td><td>0.0</td><td>0.0</td><td>0.0</td><td>0.0</td><td>0.0</td><td>0.0</td><td>0.0</td><td>0.0</td><td>3681.76001</td><td>9817.55957</td><td>91795.75</td><td>0.0</td><td>0.0</td><td>0.0</td><td>0.0</td><td>0.0</td><td>0.0</td><td>0.0</td><td>0.0</td><td>0.0</td><td>0.0</td><td>0.0</td><td>0.0</td><td>0.0</td><td>0.0</td><td>0.0</td><td>824578</td></tr><tr><td>&quot;2021-04-17 00:38:00.281751+00:…</td><td>61357.035</td><td>0.01</td><td>9338.062712</td><td>0.0</td><td>-8.1490e-8</td><td>-0.000015</td><td>-0.000109</td><td>-0.000135</td><td>-0.000138</td><td>-0.000149</td><td>-0.000157</td><td>-0.000158</td><td>-0.000159</td><td>-0.000159</td><td>-0.000162</td><td>-0.000268</td><td>-0.000269</td><td>-0.00027</td><td>-0.000361</td><td>30057.580078</td><td>3067.810059</td><td>67485.390625</td><td>920.22998</td><td>21.870001</td><td>920.219971</td><td>24907.039062</td><td>113558.4375</td><td>89536.421875</td><td>103611.4375</td><td>920.210022</td><td>4907.25</td><td>6694.149902</td><td>1226.810059</td><td>17108.050781</td><td>0.0</td><td>0.0</td><td>&hellip;</td><td>0.0</td><td>0.0</td><td>0.0</td><td>0.0</td><td>0.0</td><td>0.0</td><td>9203.55957</td><td>16904.869141</td><td>0.0</td><td>3681.959961</td><td>20011.060547</td><td>1227.349976</td><td>20014.589844</td><td>3227.389893</td><td>307.26001</td><td>5000.0</td><td>13845.469727</td><td>96698.601562</td><td>0.0</td><td>29465.390625</td><td>0.0</td><td>47.77</td><td>0.0</td><td>0.0</td><td>0.0</td><td>0.0</td><td>0.0</td><td>0.0</td><td>0.0</td><td>0.0</td><td>0.0</td><td>0.0</td><td>0.0</td><td>0.0</td><td>0.0</td><td>0.0</td><td>824579</td></tr><tr><td>&quot;2021-04-17 00:38:01.281751+00:…</td><td>61357.035</td><td>0.01</td><td>1586.678942</td><td>0.0</td><td>-8.1490e-8</td><td>-0.000002</td><td>-0.000013</td><td>-0.000015</td><td>-0.000026</td><td>-0.000039</td><td>-0.000045</td><td>-0.000046</td><td>-0.000077</td><td>-0.000106</td><td>-0.000107</td><td>-0.000109</td><td>-0.000158</td><td>-0.000158</td><td>-0.000159</td><td>199629.40625</td><td>14658.169922</td><td>920.340027</td><td>3067.810059</td><td>920.330017</td><td>5666.910156</td><td>245.800003</td><td>920.309998</td><td>21.870001</td><td>24969.660156</td><td>5000.0</td><td>67485.390625</td><td>26161.970703</td><td>9814.80957</td><td>90793.992188</td><td>134985.46875</td><td>0.0</td><td>&hellip;</td><td>0.0</td><td>0.0</td><td>0.0</td><td>0.0</td><td>0.0</td><td>0.0</td><td>61.360001</td><td>0.0</td><td>0.0</td><td>4386.919922</td><td>0.0</td><td>4025.610107</td><td>0.0</td><td>5827.490234</td><td>3682.379883</td><td>307.26001</td><td>0.0</td><td>87319.117188</td><td>5000.0</td><td>13223.910156</td><td>9820.55957</td><td>1586.680054</td><td>0.0</td><td>0.0</td><td>0.0</td><td>0.0</td><td>0.0</td><td>0.0</td><td>0.0</td><td>0.0</td><td>0.0</td><td>0.0</td><td>0.0</td><td>0.0</td><td>0.0</td><td>0.0</td><td>824580</td></tr><tr><td>&quot;2021-04-17 00:38:02.281751+00:…</td><td>61370.875</td><td>0.85</td><td>141161.159554</td><td>120.652464</td><td>-0.000007</td><td>-0.000024</td><td>-0.000197</td><td>-0.000225</td><td>-0.000226</td><td>-0.000228</td><td>-0.00024</td><td>-0.000254</td><td>-0.000263</td><td>-0.000264</td><td>-0.000265</td><td>-0.000271</td><td>-0.000381</td><td>-0.000382</td><td>-0.000382</td><td>23320.769531</td><td>67506.328125</td><td>5000.0</td><td>73628.453125</td><td>107408.953125</td><td>14658.169922</td><td>3067.810059</td><td>8049.160156</td><td>4908.379883</td><td>9815.980469</td><td>5666.910156</td><td>245.800003</td><td>88311.742188</td><td>17293.980469</td><td>20002.949219</td><td>0.0</td><td>0.0</td><td>&hellip;</td><td>0.0</td><td>0.0</td><td>0.0</td><td>2089.419922</td><td>0.0</td><td>0.0</td><td>255.520004</td><td>20112.890625</td><td>0.0</td><td>307.290009</td><td>0.0</td><td>5000.0</td><td>26827.939453</td><td>4026.840088</td><td>9822.69043</td><td>0.0</td><td>0.0</td><td>0.0</td><td>0.0</td><td>0.0</td><td>0.0</td><td>0.0</td><td>1046.709961</td><td>0.0</td><td>0.0</td><td>0.0</td><td>0.0</td><td>0.0</td><td>0.0</td><td>0.0</td><td>0.0</td><td>0.0</td><td>0.0</td><td>0.0</td><td>0.0</td><td>0.0</td><td>824581</td></tr></tbody></table></div>"
      ],
      "text/plain": [
       "shape: (824_582, 156)\n",
       "┌────────────┬───────────┬────────┬────────────┬───┬────────────┬───────────┬───────────┬──────────┐\n",
       "│ system_tim ┆ midpoint  ┆ spread ┆ buys       ┆ … ┆ asks_marke ┆ asks_mark ┆ asks_mark ┆ timestep │\n",
       "│ e          ┆ ---       ┆ ---    ┆ ---        ┆   ┆ t_notional ┆ et_notion ┆ et_notion ┆ ---      │\n",
       "│ ---        ┆ f64       ┆ f64    ┆ f64        ┆   ┆ _12        ┆ al_13     ┆ al_14     ┆ i64      │\n",
       "│ str        ┆           ┆        ┆            ┆   ┆ ---        ┆ ---       ┆ ---       ┆          │\n",
       "│            ┆           ┆        ┆            ┆   ┆ f64        ┆ f64       ┆ f64       ┆          │\n",
       "╞════════════╪═══════════╪════════╪════════════╪═══╪════════════╪═══════════╪═══════════╪══════════╡\n",
       "│ 2021-04-07 ┆ 56035.995 ┆ 0.01   ┆ 0.0        ┆ … ┆ 0.0        ┆ 0.0       ┆ 0.0       ┆ 0        │\n",
       "│ 11:32:42.1 ┆           ┆        ┆            ┆   ┆            ┆           ┆           ┆          │\n",
       "│ 22161+00:… ┆           ┆        ┆            ┆   ┆            ┆           ┆           ┆          │\n",
       "│ 2021-04-07 ┆ 56035.995 ┆ 0.01   ┆ 0.0        ┆ … ┆ 0.0        ┆ 0.0       ┆ 0.0       ┆ 1        │\n",
       "│ 11:32:43.1 ┆           ┆        ┆            ┆   ┆            ┆           ┆           ┆          │\n",
       "│ 22161+00:… ┆           ┆        ┆            ┆   ┆            ┆           ┆           ┆          │\n",
       "│ 2021-04-07 ┆ 56035.995 ┆ 0.01   ┆ 0.0        ┆ … ┆ 0.0        ┆ 0.0       ┆ 0.0       ┆ 2        │\n",
       "│ 11:32:44.1 ┆           ┆        ┆            ┆   ┆            ┆           ┆           ┆          │\n",
       "│ 22161+00:… ┆           ┆        ┆            ┆   ┆            ┆           ┆           ┆          │\n",
       "│ 2021-04-07 ┆ 56035.995 ┆ 0.01   ┆ 0.0        ┆ … ┆ 0.0        ┆ 0.0       ┆ 0.0       ┆ 3        │\n",
       "│ 11:32:45.1 ┆           ┆        ┆            ┆   ┆            ┆           ┆           ┆          │\n",
       "│ 22161+00:… ┆           ┆        ┆            ┆   ┆            ┆           ┆           ┆          │\n",
       "│ 2021-04-07 ┆ 56035.995 ┆ 0.01   ┆ 0.0        ┆ … ┆ 0.0        ┆ 0.0       ┆ 0.0       ┆ 4        │\n",
       "│ 11:32:46.1 ┆           ┆        ┆            ┆   ┆            ┆           ┆           ┆          │\n",
       "│ 22161+00:… ┆           ┆        ┆            ┆   ┆            ┆           ┆           ┆          │\n",
       "│ …          ┆ …         ┆ …      ┆ …          ┆ … ┆ …          ┆ …         ┆ …         ┆ …        │\n",
       "│ 2021-04-17 ┆ 61331.785 ┆ 0.01   ┆ 382.45233  ┆ … ┆ 0.0        ┆ 382.45001 ┆ 0.0       ┆ 824577   │\n",
       "│ 00:37:58.2 ┆           ┆        ┆            ┆   ┆            ┆ 2         ┆           ┆          │\n",
       "│ 81751+00:… ┆           ┆        ┆            ┆   ┆            ┆           ┆           ┆          │\n",
       "│ 2021-04-17 ┆ 61331.785 ┆ 0.01   ┆ 0.0        ┆ … ┆ 0.0        ┆ 0.0       ┆ 0.0       ┆ 824578   │\n",
       "│ 00:37:59.2 ┆           ┆        ┆            ┆   ┆            ┆           ┆           ┆          │\n",
       "│ 81751+00:… ┆           ┆        ┆            ┆   ┆            ┆           ┆           ┆          │\n",
       "│ 2021-04-17 ┆ 61357.035 ┆ 0.01   ┆ 9338.06271 ┆ … ┆ 0.0        ┆ 0.0       ┆ 0.0       ┆ 824579   │\n",
       "│ 00:38:00.2 ┆           ┆        ┆ 2          ┆   ┆            ┆           ┆           ┆          │\n",
       "│ 81751+00:… ┆           ┆        ┆            ┆   ┆            ┆           ┆           ┆          │\n",
       "│ 2021-04-17 ┆ 61357.035 ┆ 0.01   ┆ 1586.67894 ┆ … ┆ 0.0        ┆ 0.0       ┆ 0.0       ┆ 824580   │\n",
       "│ 00:38:01.2 ┆           ┆        ┆ 2          ┆   ┆            ┆           ┆           ┆          │\n",
       "│ 81751+00:… ┆           ┆        ┆            ┆   ┆            ┆           ┆           ┆          │\n",
       "│ 2021-04-17 ┆ 61370.875 ┆ 0.85   ┆ 141161.159 ┆ … ┆ 0.0        ┆ 0.0       ┆ 0.0       ┆ 824581   │\n",
       "│ 00:38:02.2 ┆           ┆        ┆ 554        ┆   ┆            ┆           ┆           ┆          │\n",
       "│ 81751+00:… ┆           ┆        ┆            ┆   ┆            ┆           ┆           ┆          │\n",
       "└────────────┴───────────┴────────┴────────────┴───┴────────────┴───────────┴───────────┴──────────┘"
      ]
     },
     "execution_count": 9,
     "metadata": {},
     "output_type": "execute_result"
    }
   ],
   "source": [
    "import polars as pl\n",
    "\n",
    "path =  \"/Users/lorecampa/Desktop/Projects/ICAIF24-challenge/data/BTC_1sec.parquet\"\n",
    "df = pl.read_parquet(path)\n",
    "df"
   ]
  },
  {
   "cell_type": "code",
   "execution_count": 10,
   "metadata": {},
   "outputs": [
    {
     "data": {
      "text/html": [
       "<div><style>\n",
       ".dataframe > thead > tr,\n",
       ".dataframe > tbody > tr {\n",
       "  text-align: right;\n",
       "  white-space: pre-wrap;\n",
       "}\n",
       "</style>\n",
       "<small>shape: (2, 157)</small><table border=\"1\" class=\"dataframe\"><thead><tr><th>system_time</th><th>midpoint</th><th>spread</th><th>buys</th><th>sells</th><th>bids_distance_0</th><th>bids_distance_1</th><th>bids_distance_2</th><th>bids_distance_3</th><th>bids_distance_4</th><th>bids_distance_5</th><th>bids_distance_6</th><th>bids_distance_7</th><th>bids_distance_8</th><th>bids_distance_9</th><th>bids_distance_10</th><th>bids_distance_11</th><th>bids_distance_12</th><th>bids_distance_13</th><th>bids_distance_14</th><th>bids_notional_0</th><th>bids_notional_1</th><th>bids_notional_2</th><th>bids_notional_3</th><th>bids_notional_4</th><th>bids_notional_5</th><th>bids_notional_6</th><th>bids_notional_7</th><th>bids_notional_8</th><th>bids_notional_9</th><th>bids_notional_10</th><th>bids_notional_11</th><th>bids_notional_12</th><th>bids_notional_13</th><th>bids_notional_14</th><th>bids_cancel_notional_0</th><th>bids_cancel_notional_1</th><th>&hellip;</th><th>asks_cancel_notional_10</th><th>asks_cancel_notional_11</th><th>asks_cancel_notional_12</th><th>asks_cancel_notional_13</th><th>asks_cancel_notional_14</th><th>asks_limit_notional_0</th><th>asks_limit_notional_1</th><th>asks_limit_notional_2</th><th>asks_limit_notional_3</th><th>asks_limit_notional_4</th><th>asks_limit_notional_5</th><th>asks_limit_notional_6</th><th>asks_limit_notional_7</th><th>asks_limit_notional_8</th><th>asks_limit_notional_9</th><th>asks_limit_notional_10</th><th>asks_limit_notional_11</th><th>asks_limit_notional_12</th><th>asks_limit_notional_13</th><th>asks_limit_notional_14</th><th>asks_market_notional_0</th><th>asks_market_notional_1</th><th>asks_market_notional_2</th><th>asks_market_notional_3</th><th>asks_market_notional_4</th><th>asks_market_notional_5</th><th>asks_market_notional_6</th><th>asks_market_notional_7</th><th>asks_market_notional_8</th><th>asks_market_notional_9</th><th>asks_market_notional_10</th><th>asks_market_notional_11</th><th>asks_market_notional_12</th><th>asks_market_notional_13</th><th>asks_market_notional_14</th><th>timestep</th><th>midpoint_delta</th></tr><tr><td>str</td><td>f64</td><td>f64</td><td>f64</td><td>f64</td><td>f64</td><td>f64</td><td>f64</td><td>f64</td><td>f64</td><td>f64</td><td>f64</td><td>f64</td><td>f64</td><td>f64</td><td>f64</td><td>f64</td><td>f64</td><td>f64</td><td>f64</td><td>f64</td><td>f64</td><td>f64</td><td>f64</td><td>f64</td><td>f64</td><td>f64</td><td>f64</td><td>f64</td><td>f64</td><td>f64</td><td>f64</td><td>f64</td><td>f64</td><td>f64</td><td>f64</td><td>f64</td><td>&hellip;</td><td>f64</td><td>f64</td><td>f64</td><td>f64</td><td>f64</td><td>f64</td><td>f64</td><td>f64</td><td>f64</td><td>f64</td><td>f64</td><td>f64</td><td>f64</td><td>f64</td><td>f64</td><td>f64</td><td>f64</td><td>f64</td><td>f64</td><td>f64</td><td>f64</td><td>f64</td><td>f64</td><td>f64</td><td>f64</td><td>f64</td><td>f64</td><td>f64</td><td>f64</td><td>f64</td><td>f64</td><td>f64</td><td>f64</td><td>f64</td><td>f64</td><td>i64</td><td>f64</td></tr></thead><tbody><tr><td>&quot;2021-04-07 11:32:42.122161+00:…</td><td>56035.995</td><td>0.01</td><td>0.0</td><td>0.0</td><td>-8.9228e-8</td><td>-2.6769e-7</td><td>-0.00005</td><td>-0.000245</td><td>-0.000288</td><td>-0.000288</td><td>-0.000327</td><td>-0.000404</td><td>-0.00044</td><td>-0.000485</td><td>-0.00051</td><td>-0.000583</td><td>-0.000594</td><td>-0.000635</td><td>-0.000642</td><td>3061.860107</td><td>75350.570312</td><td>80665.398438</td><td>2234.860107</td><td>220.110001</td><td>22788.880859</td><td>19995.810547</td><td>19994.259766</td><td>108.07</td><td>19992.650391</td><td>3145.850098</td><td>9968.589844</td><td>768.690002</td><td>29982.970703</td><td>4930.339844</td><td>0.0</td><td>0.0</td><td>&hellip;</td><td>0.0</td><td>0.0</td><td>0.0</td><td>0.0</td><td>0.0</td><td>1902.290039</td><td>110791.046875</td><td>64.120003</td><td>453.839996</td><td>86.75</td><td>387.079987</td><td>64.129997</td><td>107.879997</td><td>19617.839844</td><td>5696.399902</td><td>275252.5625</td><td>108.080002</td><td>107.889999</td><td>67148.421875</td><td>20007.480469</td><td>0.0</td><td>0.0</td><td>0.0</td><td>0.0</td><td>0.0</td><td>0.0</td><td>0.0</td><td>0.0</td><td>0.0</td><td>0.0</td><td>0.0</td><td>0.0</td><td>0.0</td><td>0.0</td><td>0.0</td><td>0</td><td>null</td></tr><tr><td>&quot;2021-04-07 11:32:43.122161+00:…</td><td>56035.995</td><td>0.01</td><td>0.0</td><td>0.0</td><td>-8.9228e-8</td><td>-2.6769e-7</td><td>-0.00005</td><td>-0.000245</td><td>-0.000288</td><td>-0.000288</td><td>-0.000327</td><td>-0.000404</td><td>-0.00044</td><td>-0.000485</td><td>-0.00051</td><td>-0.000583</td><td>-0.000594</td><td>-0.000635</td><td>-0.000642</td><td>3061.860107</td><td>75350.570312</td><td>80665.398438</td><td>2234.860107</td><td>220.110001</td><td>22788.880859</td><td>19995.810547</td><td>19994.259766</td><td>108.07</td><td>19992.650391</td><td>3145.850098</td><td>9968.589844</td><td>768.690002</td><td>29982.970703</td><td>4930.339844</td><td>0.0</td><td>0.0</td><td>&hellip;</td><td>0.0</td><td>0.0</td><td>0.0</td><td>0.0</td><td>0.0</td><td>1902.290039</td><td>110791.046875</td><td>64.120003</td><td>453.839996</td><td>86.75</td><td>387.079987</td><td>64.129997</td><td>107.879997</td><td>19617.839844</td><td>5696.399902</td><td>275252.5625</td><td>108.080002</td><td>107.889999</td><td>67148.421875</td><td>20007.480469</td><td>0.0</td><td>0.0</td><td>0.0</td><td>0.0</td><td>0.0</td><td>0.0</td><td>0.0</td><td>0.0</td><td>0.0</td><td>0.0</td><td>0.0</td><td>0.0</td><td>0.0</td><td>0.0</td><td>0.0</td><td>1</td><td>null</td></tr></tbody></table></div>"
      ],
      "text/plain": [
       "shape: (2, 157)\n",
       "┌─────────────┬───────────┬────────┬──────┬───┬─────────────┬─────────────┬──────────┬─────────────┐\n",
       "│ system_time ┆ midpoint  ┆ spread ┆ buys ┆ … ┆ asks_market ┆ asks_market ┆ timestep ┆ midpoint_de │\n",
       "│ ---         ┆ ---       ┆ ---    ┆ ---  ┆   ┆ _notional_1 ┆ _notional_1 ┆ ---      ┆ lta         │\n",
       "│ str         ┆ f64       ┆ f64    ┆ f64  ┆   ┆ 3           ┆ 4           ┆ i64      ┆ ---         │\n",
       "│             ┆           ┆        ┆      ┆   ┆ ---         ┆ ---         ┆          ┆ f64         │\n",
       "│             ┆           ┆        ┆      ┆   ┆ f64         ┆ f64         ┆          ┆             │\n",
       "╞═════════════╪═══════════╪════════╪══════╪═══╪═════════════╪═════════════╪══════════╪═════════════╡\n",
       "│ 2021-04-07  ┆ 56035.995 ┆ 0.01   ┆ 0.0  ┆ … ┆ 0.0         ┆ 0.0         ┆ 0        ┆ null        │\n",
       "│ 11:32:42.12 ┆           ┆        ┆      ┆   ┆             ┆             ┆          ┆             │\n",
       "│ 2161+00:…   ┆           ┆        ┆      ┆   ┆             ┆             ┆          ┆             │\n",
       "│ 2021-04-07  ┆ 56035.995 ┆ 0.01   ┆ 0.0  ┆ … ┆ 0.0         ┆ 0.0         ┆ 1        ┆ null        │\n",
       "│ 11:32:43.12 ┆           ┆        ┆      ┆   ┆             ┆             ┆          ┆             │\n",
       "│ 2161+00:…   ┆           ┆        ┆      ┆   ┆             ┆             ┆          ┆             │\n",
       "└─────────────┴───────────┴────────┴──────┴───┴─────────────┴─────────────┴──────────┴─────────────┘"
      ]
     },
     "execution_count": 10,
     "metadata": {},
     "output_type": "execute_result"
    }
   ],
   "source": [
    "df = df.with_columns(\n",
    "    [pl.col('midpoint').diff(2).alias(f'midpoint_delta')]\n",
    ")\n",
    "df.head(2)"
   ]
  },
  {
   "cell_type": "code",
   "execution_count": 11,
   "metadata": {},
   "outputs": [
    {
     "data": {
      "text/html": [
       "<div><style>\n",
       ".dataframe > thead > tr,\n",
       ".dataframe > tbody > tr {\n",
       "  text-align: right;\n",
       "  white-space: pre-wrap;\n",
       "}\n",
       "</style>\n",
       "<small>shape: (10, 8)</small><table border=\"1\" class=\"dataframe\"><thead><tr><th>midpoint_delta_0</th><th>midpoint_delta_1</th><th>midpoint_delta_2</th><th>midpoint_delta_3</th><th>midpoint_delta_4</th><th>midpoint_delta_5</th><th>midpoint_delta_6</th><th>midpoint_delta_7</th></tr><tr><td>f64</td><td>f64</td><td>f64</td><td>f64</td><td>f64</td><td>f64</td><td>f64</td><td>f64</td></tr></thead><tbody><tr><td>null</td><td>null</td><td>null</td><td>null</td><td>null</td><td>null</td><td>null</td><td>null</td></tr><tr><td>null</td><td>null</td><td>null</td><td>null</td><td>null</td><td>null</td><td>null</td><td>null</td></tr><tr><td>0.0</td><td>null</td><td>null</td><td>null</td><td>null</td><td>null</td><td>null</td><td>null</td></tr><tr><td>0.0</td><td>0.0</td><td>null</td><td>null</td><td>null</td><td>null</td><td>null</td><td>null</td></tr><tr><td>0.0</td><td>0.0</td><td>0.0</td><td>null</td><td>null</td><td>null</td><td>null</td><td>null</td></tr><tr><td>0.0</td><td>0.0</td><td>0.0</td><td>0.0</td><td>null</td><td>null</td><td>null</td><td>null</td></tr><tr><td>0.0</td><td>0.0</td><td>0.0</td><td>0.0</td><td>0.0</td><td>null</td><td>null</td><td>null</td></tr><tr><td>0.0</td><td>0.0</td><td>0.0</td><td>0.0</td><td>0.0</td><td>0.0</td><td>null</td><td>null</td></tr><tr><td>0.0</td><td>0.0</td><td>0.0</td><td>0.0</td><td>0.0</td><td>0.0</td><td>0.0</td><td>null</td></tr><tr><td>0.0</td><td>0.0</td><td>0.0</td><td>0.0</td><td>0.0</td><td>0.0</td><td>0.0</td><td>0.0</td></tr></tbody></table></div>"
      ],
      "text/plain": [
       "shape: (10, 8)\n",
       "┌────────────┬────────────┬────────────┬───────────┬───────────┬───────────┬───────────┬───────────┐\n",
       "│ midpoint_d ┆ midpoint_d ┆ midpoint_d ┆ midpoint_ ┆ midpoint_ ┆ midpoint_ ┆ midpoint_ ┆ midpoint_ │\n",
       "│ elta_0     ┆ elta_1     ┆ elta_2     ┆ delta_3   ┆ delta_4   ┆ delta_5   ┆ delta_6   ┆ delta_7   │\n",
       "│ ---        ┆ ---        ┆ ---        ┆ ---       ┆ ---       ┆ ---       ┆ ---       ┆ ---       │\n",
       "│ f64        ┆ f64        ┆ f64        ┆ f64       ┆ f64       ┆ f64       ┆ f64       ┆ f64       │\n",
       "╞════════════╪════════════╪════════════╪═══════════╪═══════════╪═══════════╪═══════════╪═══════════╡\n",
       "│ null       ┆ null       ┆ null       ┆ null      ┆ null      ┆ null      ┆ null      ┆ null      │\n",
       "│ null       ┆ null       ┆ null       ┆ null      ┆ null      ┆ null      ┆ null      ┆ null      │\n",
       "│ 0.0        ┆ null       ┆ null       ┆ null      ┆ null      ┆ null      ┆ null      ┆ null      │\n",
       "│ 0.0        ┆ 0.0        ┆ null       ┆ null      ┆ null      ┆ null      ┆ null      ┆ null      │\n",
       "│ 0.0        ┆ 0.0        ┆ 0.0        ┆ null      ┆ null      ┆ null      ┆ null      ┆ null      │\n",
       "│ 0.0        ┆ 0.0        ┆ 0.0        ┆ 0.0       ┆ null      ┆ null      ┆ null      ┆ null      │\n",
       "│ 0.0        ┆ 0.0        ┆ 0.0        ┆ 0.0       ┆ 0.0       ┆ null      ┆ null      ┆ null      │\n",
       "│ 0.0        ┆ 0.0        ┆ 0.0        ┆ 0.0       ┆ 0.0       ┆ 0.0       ┆ null      ┆ null      │\n",
       "│ 0.0        ┆ 0.0        ┆ 0.0        ┆ 0.0       ┆ 0.0       ┆ 0.0       ┆ 0.0       ┆ null      │\n",
       "│ 0.0        ┆ 0.0        ┆ 0.0        ┆ 0.0       ┆ 0.0       ┆ 0.0       ┆ 0.0       ┆ 0.0       │\n",
       "└────────────┴────────────┴────────────┴───────────┴───────────┴───────────┴───────────┴───────────┘"
      ]
     },
     "execution_count": 11,
     "metadata": {},
     "output_type": "execute_result"
    }
   ],
   "source": [
    "df = df.with_columns(\n",
    "    [pl.col('midpoint_delta').shift(i).alias(f'midpoint_delta_{i}') for i in range(8)]  \n",
    ")\n",
    "\n",
    "df = df.select(\n",
    "    [\n",
    "        'midpoint_delta_0',\n",
    "        'midpoint_delta_1',\n",
    "        'midpoint_delta_2',\n",
    "        'midpoint_delta_3',\n",
    "        'midpoint_delta_4',\n",
    "        'midpoint_delta_5',\n",
    "        'midpoint_delta_6',\n",
    "        'midpoint_delta_7',\n",
    "    ]\n",
    ")\n",
    "df.head(10)"
   ]
  },
  {
   "cell_type": "code",
   "execution_count": 12,
   "metadata": {},
   "outputs": [
    {
     "data": {
      "text/html": [
       "<div><style>\n",
       ".dataframe > thead > tr,\n",
       ".dataframe > tbody > tr {\n",
       "  text-align: right;\n",
       "  white-space: pre-wrap;\n",
       "}\n",
       "</style>\n",
       "<small>shape: (9, 9)</small><table border=\"1\" class=\"dataframe\"><thead><tr><th>statistic</th><th>midpoint_delta_0</th><th>midpoint_delta_1</th><th>midpoint_delta_2</th><th>midpoint_delta_3</th><th>midpoint_delta_4</th><th>midpoint_delta_5</th><th>midpoint_delta_6</th><th>midpoint_delta_7</th></tr><tr><td>str</td><td>f64</td><td>f64</td><td>f64</td><td>f64</td><td>f64</td><td>f64</td><td>f64</td><td>f64</td></tr></thead><tbody><tr><td>&quot;count&quot;</td><td>824580.0</td><td>824579.0</td><td>824578.0</td><td>824577.0</td><td>824576.0</td><td>824575.0</td><td>824574.0</td><td>824573.0</td></tr><tr><td>&quot;null_count&quot;</td><td>2.0</td><td>3.0</td><td>4.0</td><td>5.0</td><td>6.0</td><td>7.0</td><td>8.0</td><td>9.0</td></tr><tr><td>&quot;mean&quot;</td><td>0.012923</td><td>0.012906</td><td>0.012875</td><td>0.012845</td><td>0.012866</td><td>0.012902</td><td>0.012917</td><td>0.012917</td></tr><tr><td>&quot;std&quot;</td><td>7.521909</td><td>7.521899</td><td>7.521852</td><td>7.521805</td><td>7.521785</td><td>7.521718</td><td>7.521709</td><td>7.521714</td></tr><tr><td>&quot;min&quot;</td><td>-228.35</td><td>-228.35</td><td>-228.35</td><td>-228.35</td><td>-228.35</td><td>-228.35</td><td>-228.35</td><td>-228.35</td></tr><tr><td>&quot;25%&quot;</td><td>0.0</td><td>0.0</td><td>0.0</td><td>0.0</td><td>0.0</td><td>0.0</td><td>0.0</td><td>0.0</td></tr><tr><td>&quot;50%&quot;</td><td>0.0</td><td>0.0</td><td>0.0</td><td>0.0</td><td>0.0</td><td>0.0</td><td>0.0</td><td>0.0</td></tr><tr><td>&quot;75%&quot;</td><td>0.01</td><td>0.01</td><td>0.01</td><td>0.01</td><td>0.01</td><td>0.01</td><td>0.01</td><td>0.01</td></tr><tr><td>&quot;max&quot;</td><td>208.95</td><td>208.95</td><td>208.95</td><td>208.95</td><td>208.95</td><td>208.95</td><td>208.95</td><td>208.95</td></tr></tbody></table></div>"
      ],
      "text/plain": [
       "shape: (9, 9)\n",
       "┌───────────┬───────────┬───────────┬───────────┬───┬───────────┬───────────┬───────────┬──────────┐\n",
       "│ statistic ┆ midpoint_ ┆ midpoint_ ┆ midpoint_ ┆ … ┆ midpoint_ ┆ midpoint_ ┆ midpoint_ ┆ midpoint │\n",
       "│ ---       ┆ delta_0   ┆ delta_1   ┆ delta_2   ┆   ┆ delta_4   ┆ delta_5   ┆ delta_6   ┆ _delta_7 │\n",
       "│ str       ┆ ---       ┆ ---       ┆ ---       ┆   ┆ ---       ┆ ---       ┆ ---       ┆ ---      │\n",
       "│           ┆ f64       ┆ f64       ┆ f64       ┆   ┆ f64       ┆ f64       ┆ f64       ┆ f64      │\n",
       "╞═══════════╪═══════════╪═══════════╪═══════════╪═══╪═══════════╪═══════════╪═══════════╪══════════╡\n",
       "│ count     ┆ 824580.0  ┆ 824579.0  ┆ 824578.0  ┆ … ┆ 824576.0  ┆ 824575.0  ┆ 824574.0  ┆ 824573.0 │\n",
       "│ null_coun ┆ 2.0       ┆ 3.0       ┆ 4.0       ┆ … ┆ 6.0       ┆ 7.0       ┆ 8.0       ┆ 9.0      │\n",
       "│ t         ┆           ┆           ┆           ┆   ┆           ┆           ┆           ┆          │\n",
       "│ mean      ┆ 0.012923  ┆ 0.012906  ┆ 0.012875  ┆ … ┆ 0.012866  ┆ 0.012902  ┆ 0.012917  ┆ 0.012917 │\n",
       "│ std       ┆ 7.521909  ┆ 7.521899  ┆ 7.521852  ┆ … ┆ 7.521785  ┆ 7.521718  ┆ 7.521709  ┆ 7.521714 │\n",
       "│ min       ┆ -228.35   ┆ -228.35   ┆ -228.35   ┆ … ┆ -228.35   ┆ -228.35   ┆ -228.35   ┆ -228.35  │\n",
       "│ 25%       ┆ 0.0       ┆ 0.0       ┆ 0.0       ┆ … ┆ 0.0       ┆ 0.0       ┆ 0.0       ┆ 0.0      │\n",
       "│ 50%       ┆ 0.0       ┆ 0.0       ┆ 0.0       ┆ … ┆ 0.0       ┆ 0.0       ┆ 0.0       ┆ 0.0      │\n",
       "│ 75%       ┆ 0.01      ┆ 0.01      ┆ 0.01      ┆ … ┆ 0.01      ┆ 0.01      ┆ 0.01      ┆ 0.01     │\n",
       "│ max       ┆ 208.95    ┆ 208.95    ┆ 208.95    ┆ … ┆ 208.95    ┆ 208.95    ┆ 208.95    ┆ 208.95   │\n",
       "└───────────┴───────────┴───────────┴───────────┴───┴───────────┴───────────┴───────────┴──────────┘"
      ]
     },
     "execution_count": 12,
     "metadata": {},
     "output_type": "execute_result"
    }
   ],
   "source": [
    "df.describe()"
   ]
  },
  {
   "cell_type": "code",
   "execution_count": 13,
   "metadata": {},
   "outputs": [],
   "source": [
    "df = df.fill_nan(None).fill_null(0.)\n",
    "# df.write_parquet(\"/Users/lorecampa/Desktop/Projects/ICAIF24-challenge/data/BTC_1sec_new.parquet\")"
   ]
  },
  {
   "cell_type": "code",
   "execution_count": 14,
   "metadata": {},
   "outputs": [],
   "source": [
    "import numpy as np\n",
    "\n",
    "np.save(\"/Users/lorecampa/Desktop/Projects/ICAIF24-challenge/data/BTC_1sec_new.npy\", df.to_numpy())"
   ]
  },
  {
   "cell_type": "code",
   "execution_count": 1,
   "metadata": {},
   "outputs": [],
   "source": [
    "import numpy as np"
   ]
  },
  {
   "cell_type": "code",
   "execution_count": 4,
   "metadata": {},
   "outputs": [
    {
     "data": {
      "text/plain": [
       "2335314961"
      ]
     },
     "execution_count": 4,
     "metadata": {},
     "output_type": "execute_result"
    }
   ],
   "source": [
    "np.random.seed()\n",
    "np.random.randint(2**32 - 1, dtype=\"int64\")"
   ]
  },
  {
   "cell_type": "code",
   "execution_count": null,
   "metadata": {},
   "outputs": [],
   "source": []
  }
 ],
 "metadata": {
  "kernelspec": {
   "display_name": ".venv",
   "language": "python",
   "name": "python3"
  },
  "language_info": {
   "codemirror_mode": {
    "name": "ipython",
    "version": 3
   },
   "file_extension": ".py",
   "mimetype": "text/x-python",
   "name": "python",
   "nbconvert_exporter": "python",
   "pygments_lexer": "ipython3",
   "version": "3.10.7"
  }
 },
 "nbformat": 4,
 "nbformat_minor": 2
}
