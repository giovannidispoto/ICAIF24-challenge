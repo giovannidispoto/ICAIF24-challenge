{
 "cells": [
  {
   "cell_type": "code",
   "execution_count": 1,
   "metadata": {},
   "outputs": [],
   "source": [
    "import matplotlib.pyplot as plt\n",
    "import seaborn as sns\n",
    "import numpy as np\n",
    "import pickle"
   ]
  },
  {
   "cell_type": "code",
   "execution_count": 2,
   "metadata": {},
   "outputs": [
    {
     "name": "stdout",
     "output_type": "stream",
     "text": [
      "['/Library/Frameworks/Python.framework/Versions/3.10/lib/python310.zip', '/Library/Frameworks/Python.framework/Versions/3.10/lib/python3.10', '/Library/Frameworks/Python.framework/Versions/3.10/lib/python3.10/lib-dynload', '', '/Users/lorecampa/Desktop/Projects/ICAIF24-challenge/.venv/lib/python3.10/site-packages']\n"
     ]
    }
   ],
   "source": [
    "import sys\n",
    "print(sys.path)"
   ]
  },
  {
   "cell_type": "code",
   "execution_count": 5,
   "metadata": {},
   "outputs": [
    {
     "ename": "ModuleNotFoundError",
     "evalue": "No module named 'config'",
     "output_type": "error",
     "traceback": [
      "\u001b[0;31m---------------------------------------------------------------------------\u001b[0m",
      "\u001b[0;31mModuleNotFoundError\u001b[0m                       Traceback (most recent call last)",
      "Cell \u001b[0;32mIn[5], line 2\u001b[0m\n\u001b[1;32m      1\u001b[0m \u001b[38;5;28;01mfrom\u001b[39;00m \u001b[38;5;21;01mpathlib\u001b[39;00m \u001b[38;5;28;01mimport\u001b[39;00m Path\n\u001b[0;32m----> 2\u001b[0m \u001b[38;5;28;01mfrom\u001b[39;00m \u001b[38;5;21;01mconfig\u001b[39;00m \u001b[38;5;28;01mimport\u001b[39;00m EXP_DIR\n\u001b[1;32m      3\u001b[0m \u001b[38;5;28;01mfrom\u001b[39;00m \u001b[38;5;21;01mtrain_online_rl\u001b[39;00m \u001b[38;5;28;01mimport\u001b[39;00m plot_heatmap\n\u001b[1;32m      4\u001b[0m \u001b[38;5;66;03m# EXP_DIR = Path(\"/Users/lorecampa/Desktop/Projects/ICAIF24-challenge/experiments\")\u001b[39;00m\n",
      "\u001b[0;31mModuleNotFoundError\u001b[0m: No module named 'config'"
     ]
    }
   ],
   "source": [
    "from pathlib import Path\n",
    "from config import EXP_DIR\n",
    "from train_online_rl import plot_heatmap\n",
    "# EXP_DIR = Path(\"/Users/lorecampa/Desktop/Projects/ICAIF24-challenge/experiments\")\n",
    "first_day = 7\n",
    "agents = sorted(['PPO', 'DQN'])\n",
    "# agents = ['DQN']\n",
    "\n",
    "windows = list(range(0, 8))\n",
    "\n",
    "metrics = [\"returns\", \"sharpe_ratios\"]\n",
    "\n",
    "results_path  = EXP_DIR / \"tuning\" / \"completed\" / \"results\"\n",
    "\n",
    "save_path = results_path / \"plots\" / \"_\".join(agents)\n",
    "save_path.mkdir(parents=True, exist_ok=True)\n",
    "\n",
    "for metric in metrics: \n",
    "    means = []\n",
    "    stds = []\n",
    "    yticklabels = []\n",
    "    training_days = []\n",
    "    \n",
    "    decimal_places, use_e_notation = (2, False) if metric == \"returns\" else (5, False)\n",
    "    for window in windows:\n",
    "        for agent in agents:\n",
    "            if not (results_path / f\"{metric}_{agent}_window_{window}.pkl\").exists():\n",
    "                continue\n",
    "            with open(results_path / f\"{metric}_{agent}_window_{window}.pkl\", 'rb') as f:\n",
    "                tmp = pickle.load(f)\n",
    "\n",
    "            mean, std = tmp['mean'], tmp['std']\n",
    "            means.append(mean)\n",
    "            stds.append(std)\n",
    "            yticklabels.append(f\"{agent}_{window}\")\n",
    "            training_days.append([(window, window)])\n",
    "\n",
    "    means = np.array(means)\n",
    "    stds = np.array(stds)\n",
    "    xticklabels = [f'Day {i+first_day}' for i in range(means.shape[1])] \n",
    "\n",
    "    plot_heatmap(means, training_days=training_days, xticklabels=xticklabels, yticklabels=yticklabels, \n",
    "                decimal_places=decimal_places, use_e_notation=use_e_notation, title=f\"{metric.upper()} mean (5 seeds)\", \n",
    "                save_path=save_path / f'{metric}_mean.png' if save_path is not None else None, force_show=True)\n",
    "    plot_heatmap(stds, training_days=training_days, xticklabels=xticklabels, yticklabels=yticklabels, \n",
    "                decimal_places=decimal_places, use_e_notation=use_e_notation, title=f\"{metric.upper()} std (5 seeds)\", \n",
    "                save_path=save_path / f'{metric}_std.png' if save_path is not None else None, force_show=True)"
   ]
  },
  {
   "cell_type": "code",
   "execution_count": null,
   "metadata": {},
   "outputs": [],
   "source": []
  }
 ],
 "metadata": {
  "kernelspec": {
   "display_name": ".venv",
   "language": "python",
   "name": "python3"
  },
  "language_info": {
   "codemirror_mode": {
    "name": "ipython",
    "version": 3
   },
   "file_extension": ".py",
   "mimetype": "text/x-python",
   "name": "python",
   "nbconvert_exporter": "python",
   "pygments_lexer": "ipython3",
   "version": "3.10.7"
  }
 },
 "nbformat": 4,
 "nbformat_minor": 2
}
