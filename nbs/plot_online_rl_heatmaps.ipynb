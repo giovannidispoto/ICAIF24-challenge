{
 "cells": [
  {
   "cell_type": "code",
   "execution_count": null,
   "metadata": {},
   "outputs": [],
   "source": [
    "import matplotlib.pyplot as plt\n",
    "import seaborn as sns\n",
    "import numpy as np\n",
    "import pickle"
   ]
  },
  {
   "cell_type": "code",
   "execution_count": null,
   "metadata": {},
   "outputs": [],
   "source": [
    "from pathlib import Path\n",
    "from config import EXP_DIR\n",
    "from train_online_rl import plot_heatmap\n",
    "\n",
    "first_day = 7\n",
    "agents = sorted(['PPO', 'DQN'])\n",
    "# agents = ['DQN']\n",
    "\n",
    "windows = list(range(0, 8))\n",
    "\n",
    "metrics = [\"returns\", \"sharpe_ratios\"]\n",
    "\n",
    "results_path  = EXP_DIR / \"tuning\" / \"completed\" / \"results\"\n",
    "\n",
    "save_path = results_path / \"plots\" / \"_\".join(agents)\n",
    "save_path.mkdir(parents=True, exist_ok=True)\n",
    "\n",
    "for metric in metrics: \n",
    "    means = []\n",
    "    stds = []\n",
    "    yticklabels = []\n",
    "    training_days = []\n",
    "    \n",
    "    decimal_places, use_e_notation = (2, False) if metric == \"returns\" else (5, False)\n",
    "    for window in windows:\n",
    "        for agent in agents:\n",
    "            if not (results_path / f\"{metric}_{agent}_window_{window}.pkl\").exists():\n",
    "                continue\n",
    "            with open(results_path / f\"{metric}_{agent}_window_{window}.pkl\", 'rb') as f:\n",
    "                tmp = pickle.load(f)\n",
    "\n",
    "            mean, std = tmp['mean'], tmp['std']\n",
    "            means.append(mean)\n",
    "            stds.append(std)\n",
    "            yticklabels.append(f\"{agent}_{window}\")\n",
    "            training_days.append([(window, window)])\n",
    "\n",
    "    means = np.array(means)\n",
    "    stds = np.array(stds)\n",
    "    xticklabels = [f'Day {i+first_day}' for i in range(means.shape[1])] \n",
    "\n",
    "    plot_heatmap(means, training_days=training_days, xticklabels=xticklabels, yticklabels=yticklabels, \n",
    "                decimal_places=decimal_places, use_e_notation=use_e_notation, title=f\"{metric.upper()} mean (5 seeds)\", \n",
    "                save_path=save_path / f'{metric}_mean.png' if save_path is not None else None, force_show=True)\n",
    "    plot_heatmap(stds, training_days=training_days, xticklabels=xticklabels, yticklabels=yticklabels, \n",
    "                decimal_places=decimal_places, use_e_notation=use_e_notation, title=f\"{metric.upper()} std (5 seeds)\", \n",
    "                save_path=save_path / f'{metric}_std.png' if save_path is not None else None, force_show=True)"
   ]
  }
 ],
 "metadata": {
  "kernelspec": {
   "display_name": ".venv",
   "language": "python",
   "name": "python3"
  },
  "language_info": {
   "name": "python",
   "version": "3.10.7"
  }
 },
 "nbformat": 4,
 "nbformat_minor": 2
}
