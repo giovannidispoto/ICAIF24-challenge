{
 "cells": [
  {
   "cell_type": "code",
   "execution_count": null,
   "metadata": {},
   "outputs": [],
   "source": [
    "import os\n"
   ]
  },
  {
   "cell_type": "code",
   "execution_count": null,
   "metadata": {},
   "outputs": [],
   "source": [
    "agent_dir = \"/Users/lorecampa/Desktop/Projects/ICAIF24-challenge/agents\"\n",
    "\n",
    "ppo_agent_dir = f'{agent_dir}/ppo/first_trial'\n",
    "agent_paths = [os.path.join(ppo_agent_dir, agent) for agent in os.listdir(ppo_agent_dir)]\n",
    "assert all([os.path.exists(agent_path) for agent_path in agent_paths]), \"Some agent paths do not exist\"\n",
    "\n",
    "AGENTS = [{\"type\": \"ppo\", \"file\": agent_path} for agent_path in agent_paths]\n"
   ]
  },
  {
   "cell_type": "code",
   "execution_count": null,
   "metadata": {},
   "outputs": [],
   "source": [
    "import glob\n",
    "\n",
    "\n",
    "policy_list = glob.glob(f'{agent_dir}/fqi/trial_2_window_stap_gap_2/Policy_iter3.pkl')\n",
    "# fqi_policy = policy_list[0].split(agent_dir+'/')[1]\n",
    "fqi_policy = policy_list[0]\n",
    "AGENTS.append({\"type\": \"fqi\", \"file\": fqi_policy})\n",
    "AGENTS"
   ]
  },
  {
   "cell_type": "code",
   "execution_count": null,
   "metadata": {},
   "outputs": [],
   "source": [
    "from agent.factory import AgentsFactory\n",
    "\n",
    "\n",
    "agents = [AgentsFactory.load_agent(agent) for agent in AGENTS]\n",
    "for agent in agents:\n",
    "    agent.load()\n",
    "agents\n"
   ]
  },
  {
   "cell_type": "code",
   "execution_count": 1,
   "metadata": {},
   "outputs": [],
   "source": [
    "from agent.base import AgentBase\n",
    "from erl_config import build_env\n",
    "import torch as th\n",
    "from trade_simulator import EvalTradeSimulator\n",
    "import numpy as np\n",
    "\n",
    "\n",
    "def evaluate_agent(agent: AgentBase, eval_env, eval_sequential: bool = False, verbose: int = 0):\n",
    "    device = th.device(\"cpu\")\n",
    "\n",
    "    seed = eval_env.seed\n",
    "    num_eval_sims = eval_env.num_sims\n",
    "\n",
    "    state, _ = eval_env.reset(seed=seed, eval_sequential=eval_sequential)\n",
    "    \n",
    "    total_reward = th.zeros(num_eval_sims, dtype=th.float32, device=device)\n",
    "    rewards = th.empty((0, num_eval_sims), dtype=th.float32, device=device)\n",
    "    \n",
    "        \n",
    "    for i in range(eval_env.max_step):\n",
    "        \n",
    "        action = agent.action(state)\n",
    "        # action = th.tensor(action).to(device)\n",
    "        action = th.from_numpy(action).to(device)            \n",
    "        state, reward, terminated, truncated, _ = eval_env.step(action=action)\n",
    "        \n",
    "        rewards = th.cat((rewards, reward.unsqueeze(0)), dim=0)\n",
    "            \n",
    "        total_reward += reward\n",
    "\n",
    "        if terminated.any() or truncated:\n",
    "            break\n",
    "    \n",
    "    \n",
    "    mean_total_reward = total_reward.mean().item()\n",
    "    std_simulations = total_reward.std().item() if num_eval_sims > 1 else 0.\n",
    "    mean_std_steps = rewards.std(dim=0).mean().item()\n",
    "    \n",
    "    if verbose:\n",
    "        print(f'Sims mean: {mean_total_reward} Sims std: {std_simulations}, Mean std steps: {mean_std_steps}')\n",
    "    \n",
    "    \n",
    "    return mean_total_reward, std_simulations, mean_std_steps\n"
   ]
  },
  {
   "cell_type": "code",
   "execution_count": 8,
   "metadata": {},
   "outputs": [
    {
     "name": "stdout",
     "output_type": "stream",
     "text": [
      "All found agents: ['ppo_w4.zip', 'fqi_w2.pkl', 'dqn_w6.zip']\n",
      "fqi_w2.pkl 3\n",
      "Sims mean: 639.0226440429688 Sims std: 210.58241271972656, Mean std steps: 6.3891777992248535\n",
      "ppo_w4.zip 5\n",
      "Sims mean: 388.995849609375 Sims std: 121.4652328491211, Mean std steps: 4.251712643405026\n",
      "dqn_w6.zip 7\n",
      "Sims mean: 1322.0654296875 Sims std: 478.4322204589844, Mean std steps: 10.19191994090365\n"
     ]
    },
    {
     "data": {
      "text/plain": [
       "{1: {'agents': [], 'mean_total_rewards': [], 'std_simulations': []},\n",
       " 2: {'agents': [], 'mean_total_rewards': [], 'std_simulations': []},\n",
       " 3: {'agents': ['fqi_w2.pkl'],\n",
       "  'mean_total_rewards': [639.0226440429688],\n",
       "  'std_simulations': [210.58241271972656],\n",
       "  'best_agent': 'fqi_w2.pkl',\n",
       "  'best_mean_total_reward': 639.0226440429688},\n",
       " 4: {'agents': [], 'mean_total_rewards': [], 'std_simulations': []},\n",
       " 5: {'agents': ['ppo_w4.zip'],\n",
       "  'mean_total_rewards': [388.995849609375],\n",
       "  'std_simulations': [121.4652328491211],\n",
       "  'best_agent': 'ppo_w4.zip',\n",
       "  'best_mean_total_reward': 388.995849609375},\n",
       " 6: {'agents': [], 'mean_total_rewards': [], 'std_simulations': []},\n",
       " 7: {'agents': ['dqn_w6.zip'],\n",
       "  'mean_total_rewards': [1322.0654296875],\n",
       "  'std_simulations': [478.4322204589844],\n",
       "  'best_agent': 'dqn_w6.zip',\n",
       "  'best_mean_total_reward': 1322.0654296875}}"
      ]
     },
     "execution_count": 8,
     "metadata": {},
     "output_type": "execute_result"
    }
   ],
   "source": [
    "from agent.base import AgentBase\n",
    "from agent.base import AgentBase\n",
    "from erl_config import build_env\n",
    "import torch as th\n",
    "from trade_simulator import EvalTradeSimulator\n",
    "import numpy as np\n",
    "import os\n",
    "from agent.factory import AgentsFactory\n",
    "\n",
    "\n",
    "def model_selection(agent_path: str, num_sims: int, args, eval_sequential: bool = False):\n",
    "    eval_env_args = args.copy()\n",
    "    eval_env_args[\"num_envs\"] = 1\n",
    "    eval_env_args[\"num_sims\"] = num_sims\n",
    "    eval_env_args[\"eval_sequential\"] = eval_sequential\n",
    "    eval_env_args[\"env_class\"] = EvalTradeSimulator\n",
    "    \n",
    "    agent_file_names = [x for x in os.listdir(agent_path) if x.split('_')[0] in ['ppo', 'fqi', 'dqn']]\n",
    "    \n",
    "    print(f'All found agents: {agent_file_names}')\n",
    "    results = {}\n",
    "    for w in range(1, 8):\n",
    "        curr_agents = [a for a in agent_file_names if f'_w{w-1}.' in a]\n",
    "        \n",
    "        curr_eval_env_args = eval_env_args.copy()\n",
    "        curr_eval_env_args[\"days\"] = [w + 7, w + 7]\n",
    "        eval_env = build_env(curr_eval_env_args[\"env_class\"], curr_eval_env_args, gpu_id=-1)\n",
    "        \n",
    "        results[w] = {\n",
    "            \"agents\": [],\n",
    "            \"mean_total_rewards\": [],\n",
    "            \"std_simulations\": []\n",
    "        }\n",
    "        for agent_file in curr_agents:\n",
    "            agent_type = agent_file.split('_')[0]\n",
    "            agent = AgentsFactory.load_agent({\"type\": agent_type, \"file\": os.path.join(agent_path, agent_file)})\n",
    "            print(agent_file, w)\n",
    "            mean_total_reward, std_simulations, mean_std_steps = evaluate_agent(agent, eval_env, eval_sequential, verbose=1)\n",
    "            results[w][\"agents\"].append(agent_file)\n",
    "            results[w][\"mean_total_rewards\"].append(mean_total_reward)\n",
    "            results[w][\"std_simulations\"].append(std_simulations)\n",
    "            # print(f'Agent: {agent_file} Mean Total Reward: {mean_total_reward} Std Simulations: {std_simulations} Mean std steps: {mean_std_steps}')\n",
    "        if len(results[w][\"agents\"]) > 0:\n",
    "            best_idx = np.argmax(results[w][\"mean_total_rewards\"])\n",
    "            results[w][\"best_agent\"] = results[w][\"agents\"][best_idx]\n",
    "            results[w][\"best_mean_total_reward\"] = results[w][\"mean_total_rewards\"][best_idx]\n",
    "\n",
    "    return results\n",
    "\n",
    "\n",
    "eval_env_args = {\n",
    "    \"env_name\": \"TradeSimulator-v0\",\n",
    "    \"num_envs\": 1,\n",
    "    \"num_sims\": 50,\n",
    "    \"state_dim\": 10,\n",
    "    \"action_dim\": 3,\n",
    "    \"if_discrete\": True,\n",
    "    \"max_position\": 1,\n",
    "    \"slippage\": 7e-7,\n",
    "    \"step_gap\": 2,\n",
    "    \"eval_sequential\": False,\n",
    "    \"eval\": True,\n",
    "    \"env_class\": EvalTradeSimulator,\n",
    "    \"max_step\": 480\n",
    "} \n",
    "results = model_selection(\"/Users/lorecampa/Desktop/Projects/ICAIF24-challenge/agents_new\", 5, eval_env_args)\n",
    "results"
   ]
  },
  {
   "cell_type": "code",
   "execution_count": null,
   "metadata": {},
   "outputs": [],
   "source": []
  },
  {
   "cell_type": "code",
   "execution_count": null,
   "metadata": {},
   "outputs": [],
   "source": []
  }
 ],
 "metadata": {
  "kernelspec": {
   "display_name": ".venv",
   "language": "python",
   "name": "python3"
  },
  "language_info": {
   "codemirror_mode": {
    "name": "ipython",
    "version": 3
   },
   "file_extension": ".py",
   "mimetype": "text/x-python",
   "name": "python",
   "nbconvert_exporter": "python",
   "pygments_lexer": "ipython3",
   "version": "3.10.7"
  }
 },
 "nbformat": 4,
 "nbformat_minor": 2
}
