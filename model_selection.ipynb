{
 "cells": [
  {
   "cell_type": "code",
   "execution_count": 1,
   "metadata": {},
   "outputs": [],
   "source": [
    "import os\n"
   ]
  },
  {
   "cell_type": "code",
   "execution_count": 2,
   "metadata": {},
   "outputs": [],
   "source": [
    "agent_dir = \"/Users/lorecampa/Desktop/Projects/ICAIF24-challenge/agents\"\n",
    "\n",
    "ppo_agent_dir = f'{agent_dir}/ppo/first_trial'\n",
    "agent_paths = [os.path.join(ppo_agent_dir, agent) for agent in os.listdir(ppo_agent_dir)]\n",
    "assert all([os.path.exists(agent_path) for agent_path in agent_paths]), \"Some agent paths do not exist\"\n",
    "\n",
    "AGENTS = [{\"type\": \"ppo\", \"file\": agent_path} for agent_path in agent_paths]\n"
   ]
  },
  {
   "cell_type": "code",
   "execution_count": 3,
   "metadata": {},
   "outputs": [
    {
     "data": {
      "text/plain": [
       "[{'type': 'ppo',\n",
       "  'file': '/Users/lorecampa/Desktop/Projects/ICAIF24-challenge/agents/ppo/first_trial/PPO_window_12_12'},\n",
       " {'type': 'ppo',\n",
       "  'file': '/Users/lorecampa/Desktop/Projects/ICAIF24-challenge/agents/ppo/first_trial/PPO_window_11_11'},\n",
       " {'type': 'ppo',\n",
       "  'file': '/Users/lorecampa/Desktop/Projects/ICAIF24-challenge/agents/ppo/first_trial/PPO_window_9_9'},\n",
       " {'type': 'ppo',\n",
       "  'file': '/Users/lorecampa/Desktop/Projects/ICAIF24-challenge/agents/ppo/first_trial/PPO_window_10_10'},\n",
       " {'type': 'fqi',\n",
       "  'file': '/Users/lorecampa/Desktop/Projects/ICAIF24-challenge/agents/fqi/trial_2_window_stap_gap_2/Policy_iter3.pkl'}]"
      ]
     },
     "execution_count": 3,
     "metadata": {},
     "output_type": "execute_result"
    }
   ],
   "source": [
    "import glob\n",
    "\n",
    "\n",
    "policy_list = glob.glob(f'{agent_dir}/fqi/trial_2_window_stap_gap_2/Policy_iter3.pkl')\n",
    "# fqi_policy = policy_list[0].split(agent_dir+'/')[1]\n",
    "fqi_policy = policy_list[0]\n",
    "AGENTS.append({\"type\": \"fqi\", \"file\": fqi_policy})\n",
    "AGENTS"
   ]
  },
  {
   "cell_type": "code",
   "execution_count": 4,
   "metadata": {},
   "outputs": [
    {
     "name": "stdout",
     "output_type": "stream",
     "text": [
      "Loading 1 seeds, ['seed_3657626357.zip']\n",
      "Loading 1 seeds, ['seed_1299339297.zip']\n",
      "Loading 1 seeds, ['seed_356811696.zip']\n",
      "Loading 1 seeds, ['seed_445177589.zip']\n"
     ]
    },
    {
     "data": {
      "text/plain": [
       "[<agent.online_rl.AgentOnlineRl at 0x107933b80>,\n",
       " <agent.online_rl.AgentOnlineRl at 0x16794c160>,\n",
       " <agent.online_rl.AgentOnlineRl at 0x16794c1c0>,\n",
       " <agent.online_rl.AgentOnlineRl at 0x16794c190>,\n",
       " <agent.fqi.AgentFQI at 0x167987fd0>]"
      ]
     },
     "execution_count": 4,
     "metadata": {},
     "output_type": "execute_result"
    }
   ],
   "source": [
    "from agent.factory import AgentsFactory\n",
    "\n",
    "\n",
    "agents = [AgentsFactory.load_agent(agent) for agent in AGENTS]\n",
    "for agent in agents:\n",
    "    agent.load()\n",
    "agents\n"
   ]
  },
  {
   "cell_type": "code",
   "execution_count": 5,
   "metadata": {},
   "outputs": [],
   "source": [
    "from agent.base import AgentBase\n",
    "from erl_config import build_env\n",
    "import torch as th\n",
    "from trade_simulator import EvalTradeSimulator\n",
    "import numpy as np\n",
    "\n",
    "\n",
    "def evaluate_agent(agent: AgentBase, args, eval_sequential: bool = False, verbose: int = 0):\n",
    "    num_eval_sims = args.get(\"num_sims\", 1)\n",
    "    if verbose:\n",
    "        print('Num eval sims: ', num_eval_sims)\n",
    "    device = th.device(\"cpu\")\n",
    "\n",
    "    eval_env = build_env(args[\"env_class\"], args, gpu_id=-1)\n",
    "    seed = args.get(\"seed\", None)\n",
    "    \n",
    "\n",
    "    state, _ = eval_env.reset(seed=seed, eval_sequential=eval_sequential)\n",
    "    \n",
    "    total_reward = th.zeros(num_eval_sims, dtype=th.float32, device=device)\n",
    "    rewards = th.empty((0, num_eval_sims), dtype=th.float32, device=device)\n",
    "    \n",
    "        \n",
    "    for i in range(eval_env.max_step):\n",
    "        \n",
    "        action = agent.action(state)\n",
    "        # action = th.tensor(action).to(device)\n",
    "        action = th.from_numpy(action).to(device)            \n",
    "        state, reward, terminated, truncated, _ = eval_env.step(action=action)\n",
    "        \n",
    "        rewards = th.cat((rewards, reward.unsqueeze(0)), dim=0)\n",
    "            \n",
    "        total_reward += reward\n",
    "\n",
    "        if terminated.any() or truncated:\n",
    "            break\n",
    "    \n",
    "    \n",
    "    mean_total_reward = total_reward.mean().item()\n",
    "    std_simulations = total_reward.std().item() if num_eval_sims > 1 else 0.\n",
    "    mean_std_steps = rewards.std(dim=0).mean().item()\n",
    "    \n",
    "    if verbose:\n",
    "        print(f'Sims mean: {mean_total_reward} Sims std: {std_simulations}, Mean std steps: {mean_std_steps}')\n",
    "    \n",
    "    \n",
    "    return mean_total_reward, std_simulations, mean_std_steps\n"
   ]
  },
  {
   "cell_type": "code",
   "execution_count": 6,
   "metadata": {},
   "outputs": [
    {
     "ename": "TypeError",
     "evalue": "model_selection() got an unexpected keyword argument 'verbose'",
     "output_type": "error",
     "traceback": [
      "\u001b[0;31m---------------------------------------------------------------------------\u001b[0m",
      "\u001b[0;31mTypeError\u001b[0m                                 Traceback (most recent call last)",
      "Cell \u001b[0;32mIn[6], line 39\u001b[0m\n\u001b[1;32m     21\u001b[0m     \u001b[38;5;28;01mreturn\u001b[39;00m results\n\u001b[1;32m     24\u001b[0m eval_env_args \u001b[38;5;241m=\u001b[39m {\n\u001b[1;32m     25\u001b[0m     \u001b[38;5;124m\"\u001b[39m\u001b[38;5;124menv_name\u001b[39m\u001b[38;5;124m\"\u001b[39m: \u001b[38;5;124m\"\u001b[39m\u001b[38;5;124mTradeSimulator-v0\u001b[39m\u001b[38;5;124m\"\u001b[39m,\n\u001b[1;32m     26\u001b[0m     \u001b[38;5;124m\"\u001b[39m\u001b[38;5;124mnum_envs\u001b[39m\u001b[38;5;124m\"\u001b[39m: \u001b[38;5;241m1\u001b[39m,\n\u001b[0;32m   (...)\u001b[0m\n\u001b[1;32m     37\u001b[0m     \u001b[38;5;124m\"\u001b[39m\u001b[38;5;124mmax_step\u001b[39m\u001b[38;5;124m\"\u001b[39m: \u001b[38;5;241m480\u001b[39m\n\u001b[1;32m     38\u001b[0m } \n\u001b[0;32m---> 39\u001b[0m results \u001b[38;5;241m=\u001b[39m \u001b[43mmodel_selection\u001b[49m\u001b[43m(\u001b[49m\u001b[43magents\u001b[49m\u001b[43m,\u001b[49m\u001b[43m \u001b[49m\u001b[43meval_env_args\u001b[49m\u001b[43m,\u001b[49m\u001b[43m \u001b[49m\u001b[43mverbose\u001b[49m\u001b[38;5;241;43m=\u001b[39;49m\u001b[38;5;241;43m1\u001b[39;49m\u001b[43m)\u001b[49m\n\u001b[1;32m     40\u001b[0m results\n",
      "\u001b[0;31mTypeError\u001b[0m: model_selection() got an unexpected keyword argument 'verbose'"
     ]
    }
   ],
   "source": [
    "from agent.base import AgentBase\n",
    "\n",
    "\n",
    "def model_selection(agents: AgentBase, args: dict):\n",
    "    args[\"eval\"] = True\n",
    "    args[\"num_envs\"] = 1\n",
    "    \n",
    "    days = list(range(7, 9))\n",
    "    \n",
    "    results = []\n",
    "    for agent in agents:\n",
    "        agent_days_result = []\n",
    "        for day in days:\n",
    "            curr_agent_eval_args = args.copy()\n",
    "            curr_agent_eval_args[\"days\"] = [day, day]\n",
    "            \n",
    "            mean_total_reward, _, _ = evaluate_agent(agent, curr_agent_eval_args, verbose=1)\n",
    "            agent_days_result.append(mean_total_reward)\n",
    "        results.append(np.array(agent_days_result))\n",
    "    results = np.array(results)\n",
    "    return results\n",
    "\n",
    "\n",
    "eval_env_args = {\n",
    "    \"env_name\": \"TradeSimulator-v0\",\n",
    "    \"num_envs\": 1,\n",
    "    \"num_sims\": 50,\n",
    "    \"state_dim\": 10,\n",
    "    \"action_dim\": 3,\n",
    "    \"if_discrete\": True,\n",
    "    \"max_position\": 1,\n",
    "    \"slippage\": 7e-7,\n",
    "    \"step_gap\": 2,\n",
    "    \"eval_sequential\": False,\n",
    "    \"eval\": True,\n",
    "    \"env_class\": EvalTradeSimulator,\n",
    "    \"max_step\": 480\n",
    "} \n",
    "results = model_selection(agents, eval_env_args, verbose=1)\n",
    "results"
   ]
  },
  {
   "cell_type": "code",
   "execution_count": null,
   "metadata": {},
   "outputs": [],
   "source": []
  },
  {
   "cell_type": "code",
   "execution_count": null,
   "metadata": {},
   "outputs": [],
   "source": []
  }
 ],
 "metadata": {
  "kernelspec": {
   "display_name": ".venv",
   "language": "python",
   "name": "python3"
  },
  "language_info": {
   "codemirror_mode": {
    "name": "ipython",
    "version": 3
   },
   "file_extension": ".py",
   "mimetype": "text/x-python",
   "name": "python",
   "nbconvert_exporter": "python",
   "pygments_lexer": "ipython3",
   "version": "3.10.7"
  }
 },
 "nbformat": 4,
 "nbformat_minor": 2
}
