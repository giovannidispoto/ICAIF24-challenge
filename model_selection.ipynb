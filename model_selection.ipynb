{
 "cells": [
  {
   "cell_type": "code",
   "execution_count": 1,
   "metadata": {},
   "outputs": [],
   "source": [
    "import os\n"
   ]
  },
  {
   "cell_type": "code",
   "execution_count": 2,
   "metadata": {},
   "outputs": [],
   "source": [
    "agent_dir = \"/Users/lorecampa/Desktop/Projects/ICAIF24-challenge/agents\"\n",
    "\n",
    "ppo_agent_dir = f'{agent_dir}/ppo/first_trial'\n",
    "agent_paths = [os.path.join(ppo_agent_dir, agent) for agent in os.listdir(ppo_agent_dir)]\n",
    "assert all([os.path.exists(agent_path) for agent_path in agent_paths]), \"Some agent paths do not exist\"\n",
    "\n",
    "AGENTS = [{\"type\": \"ppo\", \"file\": agent_path} for agent_path in agent_paths]\n"
   ]
  },
  {
   "cell_type": "code",
   "execution_count": 3,
   "metadata": {},
   "outputs": [
    {
     "data": {
      "text/plain": [
       "[{'type': 'ppo',\n",
       "  'file': '/Users/lorecampa/Desktop/Projects/ICAIF24-challenge/agents/ppo/first_trial/PPO_window_12_12'},\n",
       " {'type': 'ppo',\n",
       "  'file': '/Users/lorecampa/Desktop/Projects/ICAIF24-challenge/agents/ppo/first_trial/PPO_window_11_11'},\n",
       " {'type': 'ppo',\n",
       "  'file': '/Users/lorecampa/Desktop/Projects/ICAIF24-challenge/agents/ppo/first_trial/PPO_window_9_9'},\n",
       " {'type': 'ppo',\n",
       "  'file': '/Users/lorecampa/Desktop/Projects/ICAIF24-challenge/agents/ppo/first_trial/PPO_window_10_10'},\n",
       " {'type': 'fqi',\n",
       "  'file': '/Users/lorecampa/Desktop/Projects/ICAIF24-challenge/agents/fqi/trial_2_window_stap_gap_2/Policy_iter3.pkl'}]"
      ]
     },
     "execution_count": 3,
     "metadata": {},
     "output_type": "execute_result"
    }
   ],
   "source": [
    "import glob\n",
    "\n",
    "\n",
    "policy_list = glob.glob(f'{agent_dir}/fqi/trial_2_window_stap_gap_2/Policy_iter3.pkl')\n",
    "# fqi_policy = policy_list[0].split(agent_dir+'/')[1]\n",
    "fqi_policy = policy_list[0]\n",
    "AGENTS.append({\"type\": \"fqi\", \"file\": fqi_policy})\n",
    "AGENTS"
   ]
  },
  {
   "cell_type": "code",
   "execution_count": 4,
   "metadata": {},
   "outputs": [
    {
     "name": "stdout",
     "output_type": "stream",
     "text": [
      "Loading 1 seeds, ['seed_3657626357.zip']\n",
      "Loading 1 seeds, ['seed_1299339297.zip']\n",
      "Loading 1 seeds, ['seed_356811696.zip']\n",
      "Loading 1 seeds, ['seed_445177589.zip']\n"
     ]
    },
    {
     "data": {
      "text/plain": [
       "[<agent.online_rl.AgentOnlineRl at 0x108fad810>,\n",
       " <agent.online_rl.AgentOnlineRl at 0x108fafe20>,\n",
       " <agent.online_rl.AgentOnlineRl at 0x1756e5060>,\n",
       " <agent.online_rl.AgentOnlineRl at 0x1756e7ac0>,\n",
       " <agent.fqi.AgentFQI at 0x1756e50f0>]"
      ]
     },
     "execution_count": 4,
     "metadata": {},
     "output_type": "execute_result"
    }
   ],
   "source": [
    "from agent.factory import AgentsFactory\n",
    "\n",
    "\n",
    "agents = [AgentsFactory.load_agent(agent) for agent in AGENTS]\n",
    "for agent in agents:\n",
    "    agent.load()\n",
    "agents\n"
   ]
  },
  {
   "cell_type": "code",
   "execution_count": 5,
   "metadata": {},
   "outputs": [],
   "source": [
    "from agent.base import AgentBase\n",
    "from erl_config import build_env\n",
    "import torch as th\n",
    "from trade_simulator import EvalTradeSimulator\n",
    "import numpy as np\n",
    "\n",
    "\n",
    "def evaluate_agent(agent: AgentBase, args, eval_sequential: bool = False):\n",
    "    num_eval_sims = args.get(\"num_sims\", 1)\n",
    "    print('Num eval sims: ', num_eval_sims)\n",
    "    device = th.device(\"cpu\")\n",
    "\n",
    "    eval_env = build_env(args[\"env_class\"], args, gpu_id=-1)\n",
    "    seed = args.get(\"seed\", None)\n",
    "    \n",
    "\n",
    "    state, _ = eval_env.reset(seed=seed, eval_sequential=eval_sequential)\n",
    "    print('State shape: ', state.shape)\n",
    "    \n",
    "    total_reward = th.zeros(num_eval_sims, dtype=th.float32, device=device)\n",
    "    rewards = th.empty((0, num_eval_sims), dtype=th.float32, device=device)\n",
    "    \n",
    "    \n",
    "    print('Max step: ', eval_env.max_step)\n",
    "    \n",
    "    for i in range(eval_env.max_step):\n",
    "        \n",
    "        action = agent.action(state)\n",
    "        print('Action: ', action.shape)\n",
    "        # action = th.tensor(action).to(device)\n",
    "        action = th.from_numpy(action).to(device)            \n",
    "        state, reward, terminated, truncated, _ = eval_env.step(action=action)\n",
    "        \n",
    "        rewards = th.cat((rewards, reward.unsqueeze(0)), dim=0)\n",
    "            \n",
    "        total_reward += reward\n",
    "\n",
    "        if terminated.any() or truncated:\n",
    "            break\n",
    "    \n",
    "    print(f'Steps: {i}')\n",
    "    # print(total_reward)\n",
    "    \n",
    "    mean_total_reward = total_reward.mean().item()\n",
    "    std_total_reward = total_reward.std().item() if num_eval_sims > 1 else 0.\n",
    "    mean_std_reward = rewards.std(dim=0).mean().item()\n",
    "\n",
    "    print(f'Sims mean: {mean_total_reward} Sims std: {std_total_reward}, Mean std reward: {mean_std_reward}')\n",
    "    \n",
    "    \n",
    "    return mean_total_reward\n"
   ]
  },
  {
   "cell_type": "code",
   "execution_count": 7,
   "metadata": {},
   "outputs": [
    {
     "name": "stdout",
     "output_type": "stream",
     "text": [
      "Num eval sims:  1\n",
      "State shape:  torch.Size([1, 10])\n",
      "Max step:  480\n"
     ]
    },
    {
     "ename": "AttributeError",
     "evalue": "'int' object has no attribute 'shape'",
     "output_type": "error",
     "traceback": [
      "\u001b[0;31m---------------------------------------------------------------------------\u001b[0m",
      "\u001b[0;31mAttributeError\u001b[0m                            Traceback (most recent call last)",
      "Cell \u001b[0;32mIn[7], line 33\u001b[0m\n\u001b[1;32m     23\u001b[0m     mean_total_reward \u001b[38;5;241m=\u001b[39m evaluate_agent(agent, eval_env_args)\n\u001b[1;32m     26\u001b[0m     \u001b[38;5;28;01mreturn\u001b[39;00m mean_total_reward\n\u001b[0;32m---> 33\u001b[0m \u001b[43mmodel_selection\u001b[49m\u001b[43m(\u001b[49m\u001b[43magents\u001b[49m\u001b[43m)\u001b[49m\n",
      "Cell \u001b[0;32mIn[7], line 23\u001b[0m, in \u001b[0;36mmodel_selection\u001b[0;34m(agents)\u001b[0m\n\u001b[1;32m      6\u001b[0m num_sims \u001b[38;5;241m=\u001b[39m \u001b[38;5;241m1\u001b[39m\n\u001b[1;32m      8\u001b[0m eval_env_args \u001b[38;5;241m=\u001b[39m {\n\u001b[1;32m      9\u001b[0m     \u001b[38;5;124m\"\u001b[39m\u001b[38;5;124menv_name\u001b[39m\u001b[38;5;124m\"\u001b[39m: \u001b[38;5;124m\"\u001b[39m\u001b[38;5;124mTradeSimulator-v0\u001b[39m\u001b[38;5;124m\"\u001b[39m,\n\u001b[1;32m     10\u001b[0m     \u001b[38;5;124m\"\u001b[39m\u001b[38;5;124mnum_envs\u001b[39m\u001b[38;5;124m\"\u001b[39m: \u001b[38;5;241m1\u001b[39m,\n\u001b[0;32m   (...)\u001b[0m\n\u001b[1;32m     21\u001b[0m     \u001b[38;5;124m\"\u001b[39m\u001b[38;5;124mdays\u001b[39m\u001b[38;5;124m\"\u001b[39m: [\u001b[38;5;241m10\u001b[39m, \u001b[38;5;241m10\u001b[39m]\n\u001b[1;32m     22\u001b[0m }\n\u001b[0;32m---> 23\u001b[0m mean_total_reward \u001b[38;5;241m=\u001b[39m \u001b[43mevaluate_agent\u001b[49m\u001b[43m(\u001b[49m\u001b[43magent\u001b[49m\u001b[43m,\u001b[49m\u001b[43m \u001b[49m\u001b[43meval_env_args\u001b[49m\u001b[43m)\u001b[49m\n\u001b[1;32m     26\u001b[0m \u001b[38;5;28;01mreturn\u001b[39;00m mean_total_reward\n",
      "Cell \u001b[0;32mIn[5], line 29\u001b[0m, in \u001b[0;36mevaluate_agent\u001b[0;34m(agent, args, eval_sequential)\u001b[0m\n\u001b[1;32m     26\u001b[0m \u001b[38;5;28;01mfor\u001b[39;00m i \u001b[38;5;129;01min\u001b[39;00m \u001b[38;5;28mrange\u001b[39m(eval_env\u001b[38;5;241m.\u001b[39mmax_step):\n\u001b[1;32m     28\u001b[0m     action \u001b[38;5;241m=\u001b[39m agent\u001b[38;5;241m.\u001b[39maction(state)\n\u001b[0;32m---> 29\u001b[0m     \u001b[38;5;28mprint\u001b[39m(\u001b[38;5;124m'\u001b[39m\u001b[38;5;124mAction: \u001b[39m\u001b[38;5;124m'\u001b[39m, \u001b[43maction\u001b[49m\u001b[38;5;241;43m.\u001b[39;49m\u001b[43mshape\u001b[49m)\n\u001b[1;32m     30\u001b[0m     \u001b[38;5;66;03m# action = th.tensor(action).to(device)\u001b[39;00m\n\u001b[1;32m     31\u001b[0m     action \u001b[38;5;241m=\u001b[39m th\u001b[38;5;241m.\u001b[39mfrom_numpy(action)\u001b[38;5;241m.\u001b[39mto(device)            \n",
      "\u001b[0;31mAttributeError\u001b[0m: 'int' object has no attribute 'shape'"
     ]
    }
   ],
   "source": [
    "from agent.base import AgentBase\n",
    "\n",
    "\n",
    "def model_selection(agents: AgentBase):\n",
    "    agent = agents[-1]\n",
    "    num_sims = 1\n",
    "    \n",
    "    eval_env_args = {\n",
    "        \"env_name\": \"TradeSimulator-v0\",\n",
    "        \"num_envs\": 1,\n",
    "        \"num_sims\": num_sims,\n",
    "        \"state_dim\": 10,\n",
    "        \"action_dim\": 3,\n",
    "        \"if_discrete\": True,\n",
    "        \"max_position\": 1,\n",
    "        \"slippage\": 7e-7,\n",
    "        \"step_gap\": 2,\n",
    "        \"eval_sequential\": False,\n",
    "        \"env_class\": EvalTradeSimulator,\n",
    "        \"max_step\": 480,\n",
    "        \"days\": [10, 10]\n",
    "    }\n",
    "    mean_total_reward = evaluate_agent(agent, eval_env_args)\n",
    "    \n",
    "    \n",
    "    return mean_total_reward\n",
    "    \n",
    "    \n",
    "    \n",
    "    \n",
    "    \n",
    "    \n",
    "model_selection(agents)"
   ]
  },
  {
   "cell_type": "code",
   "execution_count": null,
   "metadata": {},
   "outputs": [],
   "source": []
  }
 ],
 "metadata": {
  "kernelspec": {
   "display_name": ".venv",
   "language": "python",
   "name": "python3"
  },
  "language_info": {
   "codemirror_mode": {
    "name": "ipython",
    "version": 3
   },
   "file_extension": ".py",
   "mimetype": "text/x-python",
   "name": "python",
   "nbconvert_exporter": "python",
   "pygments_lexer": "ipython3",
   "version": "3.10.7"
  }
 },
 "nbformat": 4,
 "nbformat_minor": 2
}
